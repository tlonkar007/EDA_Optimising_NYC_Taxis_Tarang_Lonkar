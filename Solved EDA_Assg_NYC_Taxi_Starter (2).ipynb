{
 "cells": [
  {
   "cell_type": "markdown",
   "metadata": {
    "id": "ZQl5n2IOuafL"
   },
   "source": [
    "# **New York City Yellow Taxi Data**"
   ]
  },
  {
   "cell_type": "markdown",
   "metadata": {
    "id": "DGQVIB4mEFrZ"
   },
   "source": [
    "## Objective\n",
    "In this case study you will be learning exploratory data analysis (EDA) with the help of a dataset on yellow taxi rides in New York City. This will enable you to understand why EDA is an important step in the process of data science and machine learning."
   ]
  },
  {
   "cell_type": "markdown",
   "metadata": {
    "id": "YJVMenVllLUL"
   },
   "source": [
    "## **Problem Statement**\n",
    "As an analyst at an upcoming taxi operation in NYC, you are tasked to use the 2023 taxi trip data to uncover insights that could help optimise taxi operations. The goal is to analyse patterns in the data that can inform strategic decisions to improve service efficiency, maximise revenue, and enhance passenger experience."
   ]
  },
  {
   "cell_type": "code",
   "execution_count": null,
   "metadata": {},
   "outputs": [],
   "source": []
  },
  {
   "cell_type": "markdown",
   "metadata": {
    "id": "-OVfUMlHFkZD"
   },
   "source": [
    "## Tasks\n",
    "You need to perform the following steps for successfully completing this assignment:\n",
    "1. Data Loading\n",
    "2. Data Cleaning\n",
    "3. Exploratory Analysis: Bivariate and Multivariate\n",
    "4. Creating Visualisations to Support the Analysis\n",
    "5. Deriving Insights and Stating Conclusions"
   ]
  },
  {
   "cell_type": "markdown",
   "metadata": {
    "id": "gTxV-3GJUhWm"
   },
   "source": [
    "---"
   ]
  },
  {
   "cell_type": "markdown",
   "metadata": {
    "id": "ofebI8ITG-Li"
   },
   "source": [
    "**NOTE:** The marks given along with headings and sub-headings are cumulative marks for those particular headings/sub-headings.<br>\n",
    "\n",
    "The actual marks for each task are specified within the tasks themselves.\n",
    "\n",
    "For example, marks given with heading *2* or sub-heading *2.1* are the cumulative marks, for your reference only. <br>\n",
    "\n",
    "The marks you will receive for completing tasks are given with the tasks.\n",
    "\n",
    "Suppose the marks for two tasks are: 3 marks for 2.1.1 and 2 marks for 3.2.2, or\n",
    "* 2.1.1 [3 marks]\n",
    "* 3.2.2 [2 marks]\n",
    "\n",
    "then, you will earn 3 marks for completing task 2.1.1 and 2 marks for completing task 3.2.2.\n"
   ]
  },
  {
   "cell_type": "markdown",
   "metadata": {
    "id": "YdQjht7dUiHt"
   },
   "source": [
    "---"
   ]
  },
  {
   "cell_type": "markdown",
   "metadata": {
    "id": "0eaCZjHIvfuI"
   },
   "source": [
    "## Data Understanding\n",
    "The yellow taxi trip records include fields capturing pick-up and drop-off dates/times, pick-up and drop-off locations, trip distances, itemized fares, rate types, payment types, and driver-reported passenger counts.\n",
    "\n",
    "The data is stored in Parquet format (*.parquet*). The dataset is from 2009 to 2024. However, for this assignment, we will only be using the data from 2023.\n",
    "\n",
    "The data for each month is present in a different parquet file. You will get twelve files for each of the months in 2023.\n",
    "\n",
    "The data was collected and provided to the NYC Taxi and Limousine Commission (TLC) by technology providers like vendors and taxi hailing apps. <br>\n",
    "\n",
    "You can find the link to the TLC trip records page here: https://www.nyc.gov/site/tlc/about/tlc-trip-record-data.page"
   ]
  },
  {
   "cell_type": "markdown",
   "metadata": {
    "id": "LI6qC5IDxZU1"
   },
   "source": [
    "###  Data Description\n",
    "You can find the data description here: [Data Dictionary](https://www.nyc.gov/assets/tlc/downloads/pdf/data_dictionary_trip_records_yellow.pdf)"
   ]
  },
  {
   "cell_type": "markdown",
   "metadata": {
    "id": "FafCzrDuxHg2"
   },
   "source": [
    "**Trip Records**\n",
    "\n",
    "\n",
    "\n",
    "|Field Name       |description |\n",
    "|:----------------|:-----------|\n",
    "| VendorID | A code indicating the TPEP provider that provided the record. <br> 1= Creative Mobile Technologies, LLC; <br> 2= VeriFone Inc. |\n",
    "| tpep_pickup_datetime | The date and time when the meter was engaged.  |\n",
    "| tpep_dropoff_datetime | The date and time when the meter was disengaged.   |\n",
    "| Passenger_count | The number of passengers in the vehicle. <br> This is a driver-entered value. |\n",
    "| Trip_distance | The elapsed trip distance in miles reported by the taximeter. |\n",
    "| PULocationID | TLC Taxi Zone in which the taximeter was engaged |\n",
    "| DOLocationID | TLC Taxi Zone in which the taximeter was disengaged |\n",
    "|RateCodeID |The final rate code in effect at the end of the trip.<br> 1 = Standard rate <br> 2 = JFK <br> 3 = Newark <br>4 = Nassau or Westchester <br>5 = Negotiated fare <br>6 = Group ride |\n",
    "|Store_and_fwd_flag |This flag indicates whether the trip record was held in vehicle memory before sending to the vendor, aka “store and forward,” because the vehicle did not have a connection to the server.  <br>Y= store and forward trip <br>N= not a store and forward trip |\n",
    "|Payment_type| A numeric code signifying how the passenger paid for the trip. <br> 1 = Credit card <br>2 = Cash <br>3 = No charge <br>4 = Dispute <br>5 = Unknown <br>6 = Voided trip |\n",
    "|Fare_amount| The time-and-distance fare calculated by the meter. <br>Extra Miscellaneous extras and surcharges.  Currently, this only includes the 0.50 and 1 USD rush hour and overnight charges. |\n",
    "|MTA_tax |0.50 USD MTA tax that is automatically triggered based on the metered rate in use. |\n",
    "|Improvement_surcharge | 0.30 USD improvement surcharge assessed trips at the flag drop. The improvement surcharge began being levied in 2015. |\n",
    "|Tip_amount |Tip amount – This field is automatically populated for credit card tips. Cash tips are not included. |\n",
    "| Tolls_amount | Total amount of all tolls paid in trip.  |\n",
    "| total_amount | The total amount charged to passengers. Does not include cash tips. |\n",
    "|Congestion_Surcharge |Total amount collected in trip for NYS congestion surcharge. |\n",
    "| Airport_fee | 1.25 USD for pick up only at LaGuardia and John F. Kennedy Airports|\n",
    "\n",
    "Although the amounts of extra charges and taxes applied are specified in the data dictionary, you will see that some cases have different values of these charges in the actual data."
   ]
  },
  {
   "cell_type": "markdown",
   "metadata": {
    "id": "mL-FWYFnVEdE"
   },
   "source": [
    "**Taxi Zones**\n",
    "\n",
    "Each of the trip records contains a field corresponding to the location of the pickup or drop-off of the trip, populated by numbers ranging from 1-263.\n",
    "\n",
    "These numbers correspond to taxi zones, which may be downloaded as a table or map/shapefile and matched to the trip records using a join.\n",
    "\n",
    "This is covered in more detail in later sections."
   ]
  },
  {
   "cell_type": "markdown",
   "metadata": {
    "id": "z66W3s51U0gF"
   },
   "source": [
    "---"
   ]
  },
  {
   "cell_type": "markdown",
   "metadata": {
    "id": "Kw-WRzBfyS7j"
   },
   "source": [
    "## **1** Data Preparation\n",
    "\n",
    "<font color = red>[5 marks]</font> <br>"
   ]
  },
  {
   "cell_type": "markdown",
   "metadata": {
    "id": "nM2X-s6lycvQ"
   },
   "source": [
    "### Import Libraries"
   ]
  },
  {
   "cell_type": "code",
   "execution_count": 3,
   "metadata": {
    "id": "juReqsAzEdW3"
   },
   "outputs": [],
   "source": [
    "# Import warnings\n",
    "\n",
    "import pandas as pd\n",
    "import numpy as np\n",
    "import matplotlib.pyplot as plt\n",
    "import seaborn as sns"
   ]
  },
  {
   "cell_type": "code",
   "execution_count": 5,
   "metadata": {
    "id": "3XZjOlJiy1dr"
   },
   "outputs": [],
   "source": [
    "# Import the libraries you will be using for analysis"
   ]
  },
  {
   "cell_type": "code",
   "execution_count": 7,
   "metadata": {
    "id": "NsH5LNrSgW9q"
   },
   "outputs": [
    {
     "name": "stdout",
     "output_type": "stream",
     "text": [
      "numpy version: 1.26.4\n",
      "pandas version: 2.2.2\n",
      "matplotlib version: 3.9.2\n",
      "seaborn version: 0.13.2\n"
     ]
    }
   ],
   "source": [
    "# Recommended versions\n",
    "# numpy version: 1.26.4\n",
    "# pandas version: 2.2.2\n",
    "# matplotlib version: 3.10.0\n",
    "# seaborn version: 0.13.2\n",
    "\n",
    "# Check versions\n",
    "print(\"numpy version:\", np.__version__)\n",
    "print(\"pandas version:\", pd.__version__)\n",
    "print(\"matplotlib version:\", plt.matplotlib.__version__)\n",
    "print(\"seaborn version:\", sns.__version__)"
   ]
  },
  {
   "cell_type": "markdown",
   "metadata": {
    "id": "NgHgbPIepaYl"
   },
   "source": [
    "### **1.1** Load the dataset\n",
    "<font color = red>[5 marks]</font> <br>"
   ]
  },
  {
   "cell_type": "markdown",
   "metadata": {
    "id": "KrGluF_gpeHs"
   },
   "source": [
    "You will see twelve files, one for each month.\n",
    "\n",
    "To read parquet files with Pandas, you have to follow a similar syntax as that for CSV files.\n",
    "\n",
    "`df = pd.read_parquet('file.parquet')`"
   ]
  },
  {
   "cell_type": "code",
   "execution_count": 11,
   "metadata": {
    "id": "kIpIsuSSzCp9"
   },
   "outputs": [
    {
     "name": "stdout",
     "output_type": "stream",
     "text": [
      "<class 'pandas.core.frame.DataFrame'>\n",
      "RangeIndex: 467 entries, 0 to 466\n",
      "Data columns (total 25 columns):\n",
      " #   Column                 Non-Null Count  Dtype         \n",
      "---  ------                 --------------  -----         \n",
      " 0   Unnamed: 0             467 non-null    int64         \n",
      " 1   VendorID               467 non-null    int64         \n",
      " 2   tpep_pickup_datetime   467 non-null    datetime64[ns]\n",
      " 3   tpep_dropoff_datetime  467 non-null    object        \n",
      " 4   passenger_count        452 non-null    float64       \n",
      " 5   trip_distance          467 non-null    float64       \n",
      " 6   RatecodeID             452 non-null    float64       \n",
      " 7   store_and_fwd_flag     452 non-null    object        \n",
      " 8   PULocationID           467 non-null    int64         \n",
      " 9   DOLocationID           467 non-null    int64         \n",
      " 10  payment_type           467 non-null    int64         \n",
      " 11  fare_amount            467 non-null    float64       \n",
      " 12  extra                  467 non-null    float64       \n",
      " 13  mta_tax                467 non-null    float64       \n",
      " 14  tip_amount             467 non-null    float64       \n",
      " 15  tolls_amount           467 non-null    float64       \n",
      " 16  improvement_surcharge  467 non-null    float64       \n",
      " 17  total_amount           467 non-null    float64       \n",
      " 18  congestion_surcharge   452 non-null    float64       \n",
      " 19  Airport_fee            452 non-null    float64       \n",
      " 20  tpep_pickup_date       467 non-null    object        \n",
      " 21  tpep_pickup_time       467 non-null    object        \n",
      " 22  pickup_datetime        467 non-null    object        \n",
      " 23  pickup_date            467 non-null    object        \n",
      " 24  pickup_hour            467 non-null    int32         \n",
      "dtypes: datetime64[ns](1), float64(12), int32(1), int64(5), object(6)\n",
      "memory usage: 89.5+ KB\n"
     ]
    }
   ],
   "source": [
    "# Try loading one file\n",
    "\n",
    "df = pd.read_parquet('sampled_nyc_taxi.parquet')\n",
    "df.info()"
   ]
  },
  {
   "cell_type": "markdown",
   "metadata": {
    "id": "eh-keWIyqcyr"
   },
   "source": [
    "How many rows are there? Do you think handling such a large number of rows is computationally feasible when we have to combine the data for all twelve months into one?\n",
    "\n",
    "To handle this, we need to sample a fraction of data from each of the files. How to go about that? Think of a way to select only some portion of the data from each month's file that accurately represents the trends."
   ]
  },
  {
   "cell_type": "markdown",
   "metadata": {
    "id": "zHx7lh_3QGmj"
   },
   "source": [
    "#### Sampling the Data\n",
    "> One way is to take a small percentage of entries for pickup in every hour of a date. So, for all the days in a month, we can iterate through the hours and select 5% values randomly from those. Use `tpep_pickup_datetime` for this. Separate date and hour from the datetime values and then for each date, select some fraction of trips for each of the 24 hours.\n",
    "\n",
    "To sample data, you can use the `sample()` method. Follow this syntax:\n",
    "\n",
    "```Python\n",
    "# sampled_data is an empty DF to keep appending sampled data of each hour\n",
    "# hour_data is the DF of entries for an hour 'X' on a date 'Y'\n",
    "\n",
    "sample = hour_data.sample(frac = 0.05, random_state = 42)\n",
    "# sample 0.05 of the hour_data\n",
    "# random_state is just a seed for sampling, you can define it yourself\n",
    "\n",
    "sampled_data = pd.concat([sampled_data, sample]) # adding data for this hour to the DF\n",
    "```\n",
    "\n",
    "This *sampled_data* will contain 5% values selected at random from each hour.\n",
    "\n",
    "Note that the code given above is only the part that will be used for sampling and not the complete code required for sampling and combining the data files.\n",
    "\n",
    "Keep in mind that you sample by date AND hour, not just hour. (Why?)"
   ]
  },
  {
   "cell_type": "markdown",
   "metadata": {
    "id": "3zog80nsqvKp"
   },
   "source": []
  },
  {
   "cell_type": "markdown",
   "metadata": {
    "id": "Fp24-wpQrlC5"
   },
   "source": [
    "**1.1.1** <font color = red>[5 marks]</font> <br>\n",
    "Figure out how to sample and combine the files."
   ]
  },
  {
   "cell_type": "markdown",
   "metadata": {
    "id": "vRGOnciGOvq0"
   },
   "source": [
    "**Note:** It is not mandatory to use the method specified above. While sampling, you only need to make sure that your sampled data represents the overall data of all the months accurately."
   ]
  },
  {
   "cell_type": "code",
   "execution_count": 18,
   "metadata": {
    "id": "3cpuzPFvP2iC"
   },
   "outputs": [
    {
     "name": "stdout",
     "output_type": "stream",
     "text": [
      "Done! Final sampled data shape: (0, 25)\n"
     ]
    },
    {
     "name": "stderr",
     "output_type": "stream",
     "text": [
      "/var/folders/jf/38g39c_d7mxdml0qg4c87l540000gn/T/ipykernel_2293/3970924445.py:11: DeprecationWarning: DataFrameGroupBy.apply operated on the grouping columns. This behavior is deprecated, and in a future version of pandas the grouping columns will be excluded from the operation. Either pass `include_groups=False` to exclude the groupings or explicitly select the grouping columns after groupby to silence this warning.\n",
      "  sampled_df = df.groupby(['pickup_date', 'pickup_hour']).apply(\n"
     ]
    }
   ],
   "source": [
    "# Sample the data\n",
    "# It is recommmended to not load all the files at once to avoid memory overload\n",
    "sampled_dfs = []\n",
    "df['tpep_pickup_datetime'] = pd.to_datetime(df['tpep_pickup_datetime'])\n",
    "    \n",
    "# Extract date and hour\n",
    "df['pickup_date'] = df['tpep_pickup_datetime'].dt.date\n",
    "df['pickup_hour'] = df['tpep_pickup_datetime'].dt.hour\n",
    "    \n",
    "# Group by date & hour and sample 5%\n",
    "sampled_df = df.groupby(['pickup_date', 'pickup_hour']).apply(\n",
    "    lambda x: x.sample(frac=0.05, random_state=42)\n",
    ").reset_index(drop=True)\n",
    "    \n",
    "    # Store the sampled DataFrame\n",
    "sampled_dfs.append(sampled_df)\n",
    "\n",
    "# Step 3: Combine all sampled data\n",
    "final_sampled_df = pd.concat(sampled_dfs, ignore_index=True)\n",
    "\n",
    "# Optional: Save to file\n",
    "final_sampled_df.to_parquet('sampled_nyc_taxi.parquet', index=False)\n",
    "\n",
    "print(\"Done! Final sampled data shape:\", final_sampled_df.shape)"
   ]
  },
  {
   "cell_type": "code",
   "execution_count": 20,
   "metadata": {
    "id": "h3x5bCWmarTO"
   },
   "outputs": [],
   "source": [
    "# from google.colab import drive\n",
    "# drive.mount('/content/drive')"
   ]
  },
  {
   "cell_type": "code",
   "execution_count": 22,
   "metadata": {
    "id": "t1EXP0PHzPs0"
   },
   "outputs": [
    {
     "name": "stdout",
     "output_type": "stream",
     "text": [
      "\n",
      "Processing file: yellow_tripdata_2025-01.parquet\n",
      "\n",
      "Processing file: sampled_nyc_taxi_full_year.parquet\n",
      "\n",
      "Processing file: sampled_nyc_taxi_final.parquet\n",
      "\n",
      "Processing file: yellow_tripdata_2023-01.parquet\n",
      "\n",
      "Processing file: sampled_nyc_taxi.parquet\n",
      "\n",
      "Processing file: yellow_tripdata_2023-02.parquet\n"
     ]
    }
   ],
   "source": [
    "# Take a small percentage of entries from each hour of every date.\n",
    "# Iterating through the monthly data:\n",
    "#   read a month file -> day -> hour: append sampled data -> move to next hour -> move to next day after 24 hours -> move to next month file\n",
    "# Create a single dataframe for the year combining all the monthly data\n",
    "\n",
    "# Select the folder having data files\n",
    "import os\n",
    "\n",
    "# Select the folder having data files\n",
    "os.chdir('/Users/apple/Downloads')\n",
    "\n",
    "# Create a list of all the twelve files to read\n",
    "file_list = os.listdir()\n",
    "\n",
    "file_list = [f for f in os.listdir() if f.endswith(('.parquet'))]\n",
    "\n",
    "# Initialise an empty dataframe to store the combined results\n",
    "df = pd.DataFrame()\n",
    "\n",
    "# Iterate through the list of files and sample one by one:\n",
    "for file_name in file_list:\n",
    "    try:\n",
    "        print(f\"\\nProcessing file: {file_name}\")\n",
    "\n",
    "        # File path for the current file\n",
    "        file_path = os.path.join(os.getcwd(), file_name)\n",
    "\n",
    "        # Reading the current file (supports both .csv and .parquet)\n",
    "        #if file_name.endswith('.csv'):\n",
    "         #   monthly_df = pd.read_csv(file_path)\n",
    "        if file_name.endswith('.parquet'):\n",
    "            monthly_df = pd.read_parquet(file_path)\n",
    "\n",
    "        # Ensure datetime column is in correct format\n",
    "        monthly_df['tpep_pickup_datetime'] = pd.to_datetime(monthly_df['tpep_pickup_datetime'])\n",
    "\n",
    "        # Extract date and hour\n",
    "        monthly_df['pickup_date'] = monthly_df['tpep_pickup_datetime'].dt.date\n",
    "        monthly_df['pickup_hour'] = monthly_df['tpep_pickup_datetime'].dt.hour\n",
    "\n",
    "        # We will store the sampled data for the current file\n",
    "        sampled_data = pd.DataFrame()\n",
    "\n",
    "        # Loop through each date\n",
    "        for date in monthly_df['pickup_date'].unique():\n",
    "            date_df = monthly_df[monthly_df['pickup_date'] == date]\n",
    "\n",
    "            # Loop through each hour\n",
    "            for hour in range(24):\n",
    "                hour_df = date_df[date_df['pickup_hour'] == hour]\n",
    "\n",
    "                if not hour_df.empty:\n",
    "                    # Sample 5% of the hourly data randomly\n",
    "                    sample = hour_df.sample(frac=0.05, random_state=42)\n",
    "\n",
    "                    # Add this hour's sample to the file-level dataframe\n",
    "                    sampled_data = pd.concat([sampled_data, sample], ignore_index=True)\n",
    "\n",
    "        # Append this month's sampled data to the main dataframe\n",
    "        df = pd.concat([df, sampled_data], ignore_index=True)\n",
    "\n",
    "    except Exception as e:\n",
    "        print(f\"❌ Error reading file {file_name}: {e}\")\n",
    "\n",
    "# (Optional) Save the final combined sampled dataset\n",
    "df.to_parquet('sampled_nyc_taxi_full_year.parquet', index=False)\n",
    "# Or as CSV if needed:\n",
    "# df.to_csv('sampled_nyc_taxi_full_year.csv', index=False)\n"
   ]
  },
  {
   "cell_type": "markdown",
   "metadata": {
    "id": "Sej6pZkzw2AK"
   },
   "source": [
    "After combining the data files into one DataFrame, convert the new DataFrame to a CSV or parquet file and store it to use directly.\n",
    "\n",
    "Ideally, you can try keeping the total entries to around 250,000 to 300,000."
   ]
  },
  {
   "cell_type": "code",
   "execution_count": 24,
   "metadata": {
    "id": "okaVAsdPxJow"
   },
   "outputs": [],
   "source": [
    "# Store the df in csv/parquet\n",
    "# df.to_parquet('')\n",
    "df.to_parquet('sampled_nyc_taxi_final.parquet', index=False)\n",
    "df.to_csv('sampled_nyc_taxi_final.csv', index=False)"
   ]
  },
  {
   "cell_type": "markdown",
   "metadata": {
    "id": "QaOS3H9izZ0N"
   },
   "source": [
    "## **2** Data Cleaning\n",
    "<font color = red>[30 marks]</font> <br>"
   ]
  },
  {
   "cell_type": "markdown",
   "metadata": {
    "id": "5y3PKWqhxRA9"
   },
   "source": [
    "Now we can load the new data directly."
   ]
  },
  {
   "cell_type": "code",
   "execution_count": 78,
   "metadata": {},
   "outputs": [],
   "source": [
    "df_filtered = pd.read_csv('sampled_nyc_taxi_final.csv')"
   ]
  },
  {
   "cell_type": "code",
   "execution_count": null,
   "metadata": {},
   "outputs": [],
   "source": []
  },
  {
   "cell_type": "code",
   "execution_count": null,
   "metadata": {},
   "outputs": [],
   "source": []
  },
  {
   "cell_type": "code",
   "execution_count": 84,
   "metadata": {
    "id": "FOuOL0SDxQHd"
   },
   "outputs": [
    {
     "data": {
      "text/html": [
       "<div>\n",
       "<style scoped>\n",
       "    .dataframe tbody tr th:only-of-type {\n",
       "        vertical-align: middle;\n",
       "    }\n",
       "\n",
       "    .dataframe tbody tr th {\n",
       "        vertical-align: top;\n",
       "    }\n",
       "\n",
       "    .dataframe thead th {\n",
       "        text-align: right;\n",
       "    }\n",
       "</style>\n",
       "<table border=\"1\" class=\"dataframe\">\n",
       "  <thead>\n",
       "    <tr style=\"text-align: right;\">\n",
       "      <th></th>\n",
       "      <th>VendorID</th>\n",
       "      <th>tpep_pickup_datetime</th>\n",
       "      <th>tpep_dropoff_datetime</th>\n",
       "      <th>passenger_count</th>\n",
       "      <th>trip_distance</th>\n",
       "      <th>RatecodeID</th>\n",
       "      <th>store_and_fwd_flag</th>\n",
       "      <th>PULocationID</th>\n",
       "      <th>DOLocationID</th>\n",
       "      <th>payment_type</th>\n",
       "      <th>...</th>\n",
       "      <th>total_amount</th>\n",
       "      <th>congestion_surcharge</th>\n",
       "      <th>Airport_fee</th>\n",
       "      <th>pickup_date</th>\n",
       "      <th>pickup_hour</th>\n",
       "      <th>airport_fee</th>\n",
       "      <th>Unnamed: 0</th>\n",
       "      <th>tpep_pickup_date</th>\n",
       "      <th>tpep_pickup_time</th>\n",
       "      <th>pickup_datetime</th>\n",
       "    </tr>\n",
       "  </thead>\n",
       "  <tbody>\n",
       "    <tr>\n",
       "      <th>0</th>\n",
       "      <td>2</td>\n",
       "      <td>2025-01-01 00:36:00</td>\n",
       "      <td>2025-01-01 01:04:56</td>\n",
       "      <td>1.0</td>\n",
       "      <td>3.63</td>\n",
       "      <td>1.0</td>\n",
       "      <td>N</td>\n",
       "      <td>234</td>\n",
       "      <td>143</td>\n",
       "      <td>1</td>\n",
       "      <td>...</td>\n",
       "      <td>39.00</td>\n",
       "      <td>2.5</td>\n",
       "      <td>0.0</td>\n",
       "      <td>2025-01-01</td>\n",
       "      <td>0</td>\n",
       "      <td>NaN</td>\n",
       "      <td>NaN</td>\n",
       "      <td>NaN</td>\n",
       "      <td>NaN</td>\n",
       "      <td>NaN</td>\n",
       "    </tr>\n",
       "    <tr>\n",
       "      <th>1</th>\n",
       "      <td>2</td>\n",
       "      <td>2025-01-01 00:14:06</td>\n",
       "      <td>2025-01-01 00:51:56</td>\n",
       "      <td>1.0</td>\n",
       "      <td>16.44</td>\n",
       "      <td>5.0</td>\n",
       "      <td>N</td>\n",
       "      <td>132</td>\n",
       "      <td>113</td>\n",
       "      <td>1</td>\n",
       "      <td>...</td>\n",
       "      <td>107.44</td>\n",
       "      <td>2.5</td>\n",
       "      <td>0.0</td>\n",
       "      <td>2025-01-01</td>\n",
       "      <td>0</td>\n",
       "      <td>NaN</td>\n",
       "      <td>NaN</td>\n",
       "      <td>NaN</td>\n",
       "      <td>NaN</td>\n",
       "      <td>NaN</td>\n",
       "    </tr>\n",
       "    <tr>\n",
       "      <th>2</th>\n",
       "      <td>2</td>\n",
       "      <td>2025-01-01 00:23:15</td>\n",
       "      <td>2025-01-01 00:28:01</td>\n",
       "      <td>1.0</td>\n",
       "      <td>0.91</td>\n",
       "      <td>1.0</td>\n",
       "      <td>N</td>\n",
       "      <td>142</td>\n",
       "      <td>239</td>\n",
       "      <td>1</td>\n",
       "      <td>...</td>\n",
       "      <td>14.64</td>\n",
       "      <td>2.5</td>\n",
       "      <td>0.0</td>\n",
       "      <td>2025-01-01</td>\n",
       "      <td>0</td>\n",
       "      <td>NaN</td>\n",
       "      <td>NaN</td>\n",
       "      <td>NaN</td>\n",
       "      <td>NaN</td>\n",
       "      <td>NaN</td>\n",
       "    </tr>\n",
       "    <tr>\n",
       "      <th>3</th>\n",
       "      <td>2</td>\n",
       "      <td>2025-01-01 00:55:00</td>\n",
       "      <td>2025-01-01 01:03:32</td>\n",
       "      <td>NaN</td>\n",
       "      <td>1.55</td>\n",
       "      <td>NaN</td>\n",
       "      <td>NaN</td>\n",
       "      <td>40</td>\n",
       "      <td>228</td>\n",
       "      <td>0</td>\n",
       "      <td>...</td>\n",
       "      <td>1.11</td>\n",
       "      <td>NaN</td>\n",
       "      <td>NaN</td>\n",
       "      <td>2025-01-01</td>\n",
       "      <td>0</td>\n",
       "      <td>NaN</td>\n",
       "      <td>NaN</td>\n",
       "      <td>NaN</td>\n",
       "      <td>NaN</td>\n",
       "      <td>NaN</td>\n",
       "    </tr>\n",
       "    <tr>\n",
       "      <th>4</th>\n",
       "      <td>2</td>\n",
       "      <td>2025-01-01 00:45:31</td>\n",
       "      <td>2025-01-01 01:05:16</td>\n",
       "      <td>1.0</td>\n",
       "      <td>2.16</td>\n",
       "      <td>1.0</td>\n",
       "      <td>N</td>\n",
       "      <td>162</td>\n",
       "      <td>143</td>\n",
       "      <td>2</td>\n",
       "      <td>...</td>\n",
       "      <td>23.40</td>\n",
       "      <td>2.5</td>\n",
       "      <td>0.0</td>\n",
       "      <td>2025-01-01</td>\n",
       "      <td>0</td>\n",
       "      <td>NaN</td>\n",
       "      <td>NaN</td>\n",
       "      <td>NaN</td>\n",
       "      <td>NaN</td>\n",
       "      <td>NaN</td>\n",
       "    </tr>\n",
       "    <tr>\n",
       "      <th>...</th>\n",
       "      <td>...</td>\n",
       "      <td>...</td>\n",
       "      <td>...</td>\n",
       "      <td>...</td>\n",
       "      <td>...</td>\n",
       "      <td>...</td>\n",
       "      <td>...</td>\n",
       "      <td>...</td>\n",
       "      <td>...</td>\n",
       "      <td>...</td>\n",
       "      <td>...</td>\n",
       "      <td>...</td>\n",
       "      <td>...</td>\n",
       "      <td>...</td>\n",
       "      <td>...</td>\n",
       "      <td>...</td>\n",
       "      <td>...</td>\n",
       "      <td>...</td>\n",
       "      <td>...</td>\n",
       "      <td>...</td>\n",
       "      <td>...</td>\n",
       "    </tr>\n",
       "    <tr>\n",
       "      <th>520021</th>\n",
       "      <td>2</td>\n",
       "      <td>2023-02-28 23:28:03</td>\n",
       "      <td>2023-03-01 00:00:31</td>\n",
       "      <td>2.0</td>\n",
       "      <td>5.95</td>\n",
       "      <td>1.0</td>\n",
       "      <td>N</td>\n",
       "      <td>113</td>\n",
       "      <td>37</td>\n",
       "      <td>1</td>\n",
       "      <td>...</td>\n",
       "      <td>45.72</td>\n",
       "      <td>2.5</td>\n",
       "      <td>0.0</td>\n",
       "      <td>2023-02-28</td>\n",
       "      <td>23</td>\n",
       "      <td>NaN</td>\n",
       "      <td>NaN</td>\n",
       "      <td>NaN</td>\n",
       "      <td>NaN</td>\n",
       "      <td>NaN</td>\n",
       "    </tr>\n",
       "    <tr>\n",
       "      <th>520022</th>\n",
       "      <td>1</td>\n",
       "      <td>2023-02-28 23:40:08</td>\n",
       "      <td>2023-02-28 23:46:56</td>\n",
       "      <td>1.0</td>\n",
       "      <td>2.10</td>\n",
       "      <td>1.0</td>\n",
       "      <td>N</td>\n",
       "      <td>170</td>\n",
       "      <td>263</td>\n",
       "      <td>1</td>\n",
       "      <td>...</td>\n",
       "      <td>18.85</td>\n",
       "      <td>2.5</td>\n",
       "      <td>0.0</td>\n",
       "      <td>2023-02-28</td>\n",
       "      <td>23</td>\n",
       "      <td>NaN</td>\n",
       "      <td>NaN</td>\n",
       "      <td>NaN</td>\n",
       "      <td>NaN</td>\n",
       "      <td>NaN</td>\n",
       "    </tr>\n",
       "    <tr>\n",
       "      <th>520023</th>\n",
       "      <td>2</td>\n",
       "      <td>2023-02-28 23:08:26</td>\n",
       "      <td>2023-02-28 23:10:31</td>\n",
       "      <td>1.0</td>\n",
       "      <td>0.50</td>\n",
       "      <td>1.0</td>\n",
       "      <td>N</td>\n",
       "      <td>164</td>\n",
       "      <td>234</td>\n",
       "      <td>1</td>\n",
       "      <td>...</td>\n",
       "      <td>12.12</td>\n",
       "      <td>2.5</td>\n",
       "      <td>0.0</td>\n",
       "      <td>2023-02-28</td>\n",
       "      <td>23</td>\n",
       "      <td>NaN</td>\n",
       "      <td>NaN</td>\n",
       "      <td>NaN</td>\n",
       "      <td>NaN</td>\n",
       "      <td>NaN</td>\n",
       "    </tr>\n",
       "    <tr>\n",
       "      <th>520024</th>\n",
       "      <td>2</td>\n",
       "      <td>2023-02-28 23:14:40</td>\n",
       "      <td>2023-02-28 23:31:39</td>\n",
       "      <td>1.0</td>\n",
       "      <td>0.00</td>\n",
       "      <td>1.0</td>\n",
       "      <td>N</td>\n",
       "      <td>162</td>\n",
       "      <td>151</td>\n",
       "      <td>1</td>\n",
       "      <td>...</td>\n",
       "      <td>21.20</td>\n",
       "      <td>2.5</td>\n",
       "      <td>0.0</td>\n",
       "      <td>2023-02-28</td>\n",
       "      <td>23</td>\n",
       "      <td>NaN</td>\n",
       "      <td>NaN</td>\n",
       "      <td>NaN</td>\n",
       "      <td>NaN</td>\n",
       "      <td>NaN</td>\n",
       "    </tr>\n",
       "    <tr>\n",
       "      <th>520025</th>\n",
       "      <td>1</td>\n",
       "      <td>2023-02-28 23:49:14</td>\n",
       "      <td>2023-03-01 00:06:29</td>\n",
       "      <td>1.0</td>\n",
       "      <td>4.20</td>\n",
       "      <td>1.0</td>\n",
       "      <td>N</td>\n",
       "      <td>230</td>\n",
       "      <td>41</td>\n",
       "      <td>1</td>\n",
       "      <td>...</td>\n",
       "      <td>30.60</td>\n",
       "      <td>2.5</td>\n",
       "      <td>0.0</td>\n",
       "      <td>2023-02-28</td>\n",
       "      <td>23</td>\n",
       "      <td>NaN</td>\n",
       "      <td>NaN</td>\n",
       "      <td>NaN</td>\n",
       "      <td>NaN</td>\n",
       "      <td>NaN</td>\n",
       "    </tr>\n",
       "  </tbody>\n",
       "</table>\n",
       "<p>520026 rows × 26 columns</p>\n",
       "</div>"
      ],
      "text/plain": [
       "        VendorID tpep_pickup_datetime tpep_dropoff_datetime  passenger_count  \\\n",
       "0              2  2025-01-01 00:36:00   2025-01-01 01:04:56              1.0   \n",
       "1              2  2025-01-01 00:14:06   2025-01-01 00:51:56              1.0   \n",
       "2              2  2025-01-01 00:23:15   2025-01-01 00:28:01              1.0   \n",
       "3              2  2025-01-01 00:55:00   2025-01-01 01:03:32              NaN   \n",
       "4              2  2025-01-01 00:45:31   2025-01-01 01:05:16              1.0   \n",
       "...          ...                  ...                   ...              ...   \n",
       "520021         2  2023-02-28 23:28:03   2023-03-01 00:00:31              2.0   \n",
       "520022         1  2023-02-28 23:40:08   2023-02-28 23:46:56              1.0   \n",
       "520023         2  2023-02-28 23:08:26   2023-02-28 23:10:31              1.0   \n",
       "520024         2  2023-02-28 23:14:40   2023-02-28 23:31:39              1.0   \n",
       "520025         1  2023-02-28 23:49:14   2023-03-01 00:06:29              1.0   \n",
       "\n",
       "        trip_distance  RatecodeID store_and_fwd_flag  PULocationID  \\\n",
       "0                3.63         1.0                  N           234   \n",
       "1               16.44         5.0                  N           132   \n",
       "2                0.91         1.0                  N           142   \n",
       "3                1.55         NaN                NaN            40   \n",
       "4                2.16         1.0                  N           162   \n",
       "...               ...         ...                ...           ...   \n",
       "520021           5.95         1.0                  N           113   \n",
       "520022           2.10         1.0                  N           170   \n",
       "520023           0.50         1.0                  N           164   \n",
       "520024           0.00         1.0                  N           162   \n",
       "520025           4.20         1.0                  N           230   \n",
       "\n",
       "        DOLocationID  payment_type  ...  total_amount  congestion_surcharge  \\\n",
       "0                143             1  ...         39.00                   2.5   \n",
       "1                113             1  ...        107.44                   2.5   \n",
       "2                239             1  ...         14.64                   2.5   \n",
       "3                228             0  ...          1.11                   NaN   \n",
       "4                143             2  ...         23.40                   2.5   \n",
       "...              ...           ...  ...           ...                   ...   \n",
       "520021            37             1  ...         45.72                   2.5   \n",
       "520022           263             1  ...         18.85                   2.5   \n",
       "520023           234             1  ...         12.12                   2.5   \n",
       "520024           151             1  ...         21.20                   2.5   \n",
       "520025            41             1  ...         30.60                   2.5   \n",
       "\n",
       "        Airport_fee  pickup_date  pickup_hour  airport_fee  Unnamed: 0  \\\n",
       "0               0.0   2025-01-01            0          NaN         NaN   \n",
       "1               0.0   2025-01-01            0          NaN         NaN   \n",
       "2               0.0   2025-01-01            0          NaN         NaN   \n",
       "3               NaN   2025-01-01            0          NaN         NaN   \n",
       "4               0.0   2025-01-01            0          NaN         NaN   \n",
       "...             ...          ...          ...          ...         ...   \n",
       "520021          0.0   2023-02-28           23          NaN         NaN   \n",
       "520022          0.0   2023-02-28           23          NaN         NaN   \n",
       "520023          0.0   2023-02-28           23          NaN         NaN   \n",
       "520024          0.0   2023-02-28           23          NaN         NaN   \n",
       "520025          0.0   2023-02-28           23          NaN         NaN   \n",
       "\n",
       "        tpep_pickup_date  tpep_pickup_time pickup_datetime  \n",
       "0                    NaN               NaN             NaN  \n",
       "1                    NaN               NaN             NaN  \n",
       "2                    NaN               NaN             NaN  \n",
       "3                    NaN               NaN             NaN  \n",
       "4                    NaN               NaN             NaN  \n",
       "...                  ...               ...             ...  \n",
       "520021               NaN               NaN             NaN  \n",
       "520022               NaN               NaN             NaN  \n",
       "520023               NaN               NaN             NaN  \n",
       "520024               NaN               NaN             NaN  \n",
       "520025               NaN               NaN             NaN  \n",
       "\n",
       "[520026 rows x 26 columns]"
      ]
     },
     "execution_count": 84,
     "metadata": {},
     "output_type": "execute_result"
    }
   ],
   "source": [
    "# Load the new data file\n",
    "df_filtered = pd.read_csv('sampled_nyc_taxi_final.csv')\n",
    "\n",
    "# Converting pickup and dropoff datetime columns to datetime format\n",
    "df_filtered['tpep_pickup_datetime'] = pd.to_datetime(df['tpep_pickup_datetime'])\n",
    "df_filtered['tpep_dropoff_datetime'] = pd.to_datetime(df['tpep_dropoff_datetime'])\n",
    "df_filtered"
   ]
  },
  {
   "cell_type": "code",
   "execution_count": 86,
   "metadata": {
    "id": "fbzmFKyn1780"
   },
   "outputs": [
    {
     "data": {
      "text/html": [
       "<div>\n",
       "<style scoped>\n",
       "    .dataframe tbody tr th:only-of-type {\n",
       "        vertical-align: middle;\n",
       "    }\n",
       "\n",
       "    .dataframe tbody tr th {\n",
       "        vertical-align: top;\n",
       "    }\n",
       "\n",
       "    .dataframe thead th {\n",
       "        text-align: right;\n",
       "    }\n",
       "</style>\n",
       "<table border=\"1\" class=\"dataframe\">\n",
       "  <thead>\n",
       "    <tr style=\"text-align: right;\">\n",
       "      <th></th>\n",
       "      <th>VendorID</th>\n",
       "      <th>tpep_pickup_datetime</th>\n",
       "      <th>tpep_dropoff_datetime</th>\n",
       "      <th>passenger_count</th>\n",
       "      <th>trip_distance</th>\n",
       "      <th>RatecodeID</th>\n",
       "      <th>store_and_fwd_flag</th>\n",
       "      <th>PULocationID</th>\n",
       "      <th>DOLocationID</th>\n",
       "      <th>payment_type</th>\n",
       "      <th>...</th>\n",
       "      <th>total_amount</th>\n",
       "      <th>congestion_surcharge</th>\n",
       "      <th>Airport_fee</th>\n",
       "      <th>pickup_date</th>\n",
       "      <th>pickup_hour</th>\n",
       "      <th>airport_fee</th>\n",
       "      <th>Unnamed: 0</th>\n",
       "      <th>tpep_pickup_date</th>\n",
       "      <th>tpep_pickup_time</th>\n",
       "      <th>pickup_datetime</th>\n",
       "    </tr>\n",
       "  </thead>\n",
       "  <tbody>\n",
       "    <tr>\n",
       "      <th>0</th>\n",
       "      <td>2</td>\n",
       "      <td>2025-01-01 00:36:00</td>\n",
       "      <td>2025-01-01 01:04:56</td>\n",
       "      <td>1.0</td>\n",
       "      <td>3.63</td>\n",
       "      <td>1.0</td>\n",
       "      <td>N</td>\n",
       "      <td>234</td>\n",
       "      <td>143</td>\n",
       "      <td>1</td>\n",
       "      <td>...</td>\n",
       "      <td>39.00</td>\n",
       "      <td>2.5</td>\n",
       "      <td>0.0</td>\n",
       "      <td>2025-01-01</td>\n",
       "      <td>0</td>\n",
       "      <td>NaN</td>\n",
       "      <td>NaN</td>\n",
       "      <td>NaN</td>\n",
       "      <td>NaN</td>\n",
       "      <td>NaN</td>\n",
       "    </tr>\n",
       "    <tr>\n",
       "      <th>1</th>\n",
       "      <td>2</td>\n",
       "      <td>2025-01-01 00:14:06</td>\n",
       "      <td>2025-01-01 00:51:56</td>\n",
       "      <td>1.0</td>\n",
       "      <td>16.44</td>\n",
       "      <td>5.0</td>\n",
       "      <td>N</td>\n",
       "      <td>132</td>\n",
       "      <td>113</td>\n",
       "      <td>1</td>\n",
       "      <td>...</td>\n",
       "      <td>107.44</td>\n",
       "      <td>2.5</td>\n",
       "      <td>0.0</td>\n",
       "      <td>2025-01-01</td>\n",
       "      <td>0</td>\n",
       "      <td>NaN</td>\n",
       "      <td>NaN</td>\n",
       "      <td>NaN</td>\n",
       "      <td>NaN</td>\n",
       "      <td>NaN</td>\n",
       "    </tr>\n",
       "    <tr>\n",
       "      <th>2</th>\n",
       "      <td>2</td>\n",
       "      <td>2025-01-01 00:23:15</td>\n",
       "      <td>2025-01-01 00:28:01</td>\n",
       "      <td>1.0</td>\n",
       "      <td>0.91</td>\n",
       "      <td>1.0</td>\n",
       "      <td>N</td>\n",
       "      <td>142</td>\n",
       "      <td>239</td>\n",
       "      <td>1</td>\n",
       "      <td>...</td>\n",
       "      <td>14.64</td>\n",
       "      <td>2.5</td>\n",
       "      <td>0.0</td>\n",
       "      <td>2025-01-01</td>\n",
       "      <td>0</td>\n",
       "      <td>NaN</td>\n",
       "      <td>NaN</td>\n",
       "      <td>NaN</td>\n",
       "      <td>NaN</td>\n",
       "      <td>NaN</td>\n",
       "    </tr>\n",
       "    <tr>\n",
       "      <th>3</th>\n",
       "      <td>2</td>\n",
       "      <td>2025-01-01 00:55:00</td>\n",
       "      <td>2025-01-01 01:03:32</td>\n",
       "      <td>NaN</td>\n",
       "      <td>1.55</td>\n",
       "      <td>NaN</td>\n",
       "      <td>None</td>\n",
       "      <td>40</td>\n",
       "      <td>228</td>\n",
       "      <td>0</td>\n",
       "      <td>...</td>\n",
       "      <td>1.11</td>\n",
       "      <td>NaN</td>\n",
       "      <td>NaN</td>\n",
       "      <td>2025-01-01</td>\n",
       "      <td>0</td>\n",
       "      <td>NaN</td>\n",
       "      <td>NaN</td>\n",
       "      <td>NaN</td>\n",
       "      <td>NaN</td>\n",
       "      <td>NaN</td>\n",
       "    </tr>\n",
       "    <tr>\n",
       "      <th>4</th>\n",
       "      <td>2</td>\n",
       "      <td>2025-01-01 00:45:31</td>\n",
       "      <td>2025-01-01 01:05:16</td>\n",
       "      <td>1.0</td>\n",
       "      <td>2.16</td>\n",
       "      <td>1.0</td>\n",
       "      <td>N</td>\n",
       "      <td>162</td>\n",
       "      <td>143</td>\n",
       "      <td>2</td>\n",
       "      <td>...</td>\n",
       "      <td>23.40</td>\n",
       "      <td>2.5</td>\n",
       "      <td>0.0</td>\n",
       "      <td>2025-01-01</td>\n",
       "      <td>0</td>\n",
       "      <td>NaN</td>\n",
       "      <td>NaN</td>\n",
       "      <td>NaN</td>\n",
       "      <td>NaN</td>\n",
       "      <td>NaN</td>\n",
       "    </tr>\n",
       "  </tbody>\n",
       "</table>\n",
       "<p>5 rows × 26 columns</p>\n",
       "</div>"
      ],
      "text/plain": [
       "   VendorID tpep_pickup_datetime tpep_dropoff_datetime  passenger_count  \\\n",
       "0         2  2025-01-01 00:36:00   2025-01-01 01:04:56              1.0   \n",
       "1         2  2025-01-01 00:14:06   2025-01-01 00:51:56              1.0   \n",
       "2         2  2025-01-01 00:23:15   2025-01-01 00:28:01              1.0   \n",
       "3         2  2025-01-01 00:55:00   2025-01-01 01:03:32              NaN   \n",
       "4         2  2025-01-01 00:45:31   2025-01-01 01:05:16              1.0   \n",
       "\n",
       "   trip_distance  RatecodeID store_and_fwd_flag  PULocationID  DOLocationID  \\\n",
       "0           3.63         1.0                  N           234           143   \n",
       "1          16.44         5.0                  N           132           113   \n",
       "2           0.91         1.0                  N           142           239   \n",
       "3           1.55         NaN               None            40           228   \n",
       "4           2.16         1.0                  N           162           143   \n",
       "\n",
       "   payment_type  ...  total_amount  congestion_surcharge  Airport_fee  \\\n",
       "0             1  ...         39.00                   2.5          0.0   \n",
       "1             1  ...        107.44                   2.5          0.0   \n",
       "2             1  ...         14.64                   2.5          0.0   \n",
       "3             0  ...          1.11                   NaN          NaN   \n",
       "4             2  ...         23.40                   2.5          0.0   \n",
       "\n",
       "   pickup_date  pickup_hour  airport_fee  Unnamed: 0  tpep_pickup_date  \\\n",
       "0   2025-01-01            0          NaN         NaN               NaN   \n",
       "1   2025-01-01            0          NaN         NaN               NaN   \n",
       "2   2025-01-01            0          NaN         NaN               NaN   \n",
       "3   2025-01-01            0          NaN         NaN               NaN   \n",
       "4   2025-01-01            0          NaN         NaN               NaN   \n",
       "\n",
       "   tpep_pickup_time pickup_datetime  \n",
       "0               NaN             NaN  \n",
       "1               NaN             NaN  \n",
       "2               NaN             NaN  \n",
       "3               NaN             NaN  \n",
       "4               NaN             NaN  \n",
       "\n",
       "[5 rows x 26 columns]"
      ]
     },
     "execution_count": 86,
     "metadata": {},
     "output_type": "execute_result"
    }
   ],
   "source": [
    " df.head()"
   ]
  },
  {
   "cell_type": "code",
   "execution_count": 95,
   "metadata": {
    "id": "FH83U4A49ErC"
   },
   "outputs": [],
   "source": [
    "# df.info()"
   ]
  },
  {
   "cell_type": "markdown",
   "metadata": {
    "id": "HZvPSwJx0S3K"
   },
   "source": [
    "#### **2.1** Fixing Columns\n",
    "<font color = red>[10 marks]</font> <br>\n",
    "\n",
    "Fix/drop any columns as you seem necessary in the below sections"
   ]
  },
  {
   "cell_type": "markdown",
   "metadata": {
    "id": "358takCd2FiM"
   },
   "source": [
    "**2.1.1** <font color = red>[2 marks]</font> <br>\n",
    "\n",
    "Fix the index and drop unnecessary columns"
   ]
  },
  {
   "cell_type": "code",
   "execution_count": 88,
   "metadata": {
    "id": "KHHFyZxa2PEM"
   },
   "outputs": [
    {
     "data": {
      "text/html": [
       "<div>\n",
       "<style scoped>\n",
       "    .dataframe tbody tr th:only-of-type {\n",
       "        vertical-align: middle;\n",
       "    }\n",
       "\n",
       "    .dataframe tbody tr th {\n",
       "        vertical-align: top;\n",
       "    }\n",
       "\n",
       "    .dataframe thead th {\n",
       "        text-align: right;\n",
       "    }\n",
       "</style>\n",
       "<table border=\"1\" class=\"dataframe\">\n",
       "  <thead>\n",
       "    <tr style=\"text-align: right;\">\n",
       "      <th></th>\n",
       "      <th>VendorID</th>\n",
       "      <th>tpep_pickup_datetime</th>\n",
       "      <th>tpep_dropoff_datetime</th>\n",
       "      <th>passenger_count</th>\n",
       "      <th>trip_distance</th>\n",
       "      <th>RatecodeID</th>\n",
       "      <th>PULocationID</th>\n",
       "      <th>DOLocationID</th>\n",
       "      <th>payment_type</th>\n",
       "      <th>fare_amount</th>\n",
       "      <th>...</th>\n",
       "      <th>total_amount</th>\n",
       "      <th>congestion_surcharge</th>\n",
       "      <th>Airport_fee</th>\n",
       "      <th>pickup_date</th>\n",
       "      <th>pickup_hour</th>\n",
       "      <th>airport_fee</th>\n",
       "      <th>Unnamed: 0</th>\n",
       "      <th>tpep_pickup_date</th>\n",
       "      <th>tpep_pickup_time</th>\n",
       "      <th>pickup_datetime</th>\n",
       "    </tr>\n",
       "  </thead>\n",
       "  <tbody>\n",
       "    <tr>\n",
       "      <th>0</th>\n",
       "      <td>2</td>\n",
       "      <td>2025-01-01 00:36:00</td>\n",
       "      <td>2025-01-01 01:04:56</td>\n",
       "      <td>1.0</td>\n",
       "      <td>3.63</td>\n",
       "      <td>1.0</td>\n",
       "      <td>234</td>\n",
       "      <td>143</td>\n",
       "      <td>1</td>\n",
       "      <td>27.50</td>\n",
       "      <td>...</td>\n",
       "      <td>39.00</td>\n",
       "      <td>2.5</td>\n",
       "      <td>0.0</td>\n",
       "      <td>2025-01-01</td>\n",
       "      <td>0</td>\n",
       "      <td>NaN</td>\n",
       "      <td>NaN</td>\n",
       "      <td>NaN</td>\n",
       "      <td>NaN</td>\n",
       "      <td>NaN</td>\n",
       "    </tr>\n",
       "    <tr>\n",
       "      <th>1</th>\n",
       "      <td>2</td>\n",
       "      <td>2025-01-01 00:14:06</td>\n",
       "      <td>2025-01-01 00:51:56</td>\n",
       "      <td>1.0</td>\n",
       "      <td>16.44</td>\n",
       "      <td>5.0</td>\n",
       "      <td>132</td>\n",
       "      <td>113</td>\n",
       "      <td>1</td>\n",
       "      <td>87.00</td>\n",
       "      <td>...</td>\n",
       "      <td>107.44</td>\n",
       "      <td>2.5</td>\n",
       "      <td>0.0</td>\n",
       "      <td>2025-01-01</td>\n",
       "      <td>0</td>\n",
       "      <td>NaN</td>\n",
       "      <td>NaN</td>\n",
       "      <td>NaN</td>\n",
       "      <td>NaN</td>\n",
       "      <td>NaN</td>\n",
       "    </tr>\n",
       "    <tr>\n",
       "      <th>2</th>\n",
       "      <td>2</td>\n",
       "      <td>2025-01-01 00:23:15</td>\n",
       "      <td>2025-01-01 00:28:01</td>\n",
       "      <td>1.0</td>\n",
       "      <td>0.91</td>\n",
       "      <td>1.0</td>\n",
       "      <td>142</td>\n",
       "      <td>239</td>\n",
       "      <td>1</td>\n",
       "      <td>7.20</td>\n",
       "      <td>...</td>\n",
       "      <td>14.64</td>\n",
       "      <td>2.5</td>\n",
       "      <td>0.0</td>\n",
       "      <td>2025-01-01</td>\n",
       "      <td>0</td>\n",
       "      <td>NaN</td>\n",
       "      <td>NaN</td>\n",
       "      <td>NaN</td>\n",
       "      <td>NaN</td>\n",
       "      <td>NaN</td>\n",
       "    </tr>\n",
       "    <tr>\n",
       "      <th>3</th>\n",
       "      <td>2</td>\n",
       "      <td>2025-01-01 00:55:00</td>\n",
       "      <td>2025-01-01 01:03:32</td>\n",
       "      <td>NaN</td>\n",
       "      <td>1.55</td>\n",
       "      <td>NaN</td>\n",
       "      <td>40</td>\n",
       "      <td>228</td>\n",
       "      <td>0</td>\n",
       "      <td>-3.28</td>\n",
       "      <td>...</td>\n",
       "      <td>1.11</td>\n",
       "      <td>NaN</td>\n",
       "      <td>NaN</td>\n",
       "      <td>2025-01-01</td>\n",
       "      <td>0</td>\n",
       "      <td>NaN</td>\n",
       "      <td>NaN</td>\n",
       "      <td>NaN</td>\n",
       "      <td>NaN</td>\n",
       "      <td>NaN</td>\n",
       "    </tr>\n",
       "    <tr>\n",
       "      <th>4</th>\n",
       "      <td>2</td>\n",
       "      <td>2025-01-01 00:45:31</td>\n",
       "      <td>2025-01-01 01:05:16</td>\n",
       "      <td>1.0</td>\n",
       "      <td>2.16</td>\n",
       "      <td>1.0</td>\n",
       "      <td>162</td>\n",
       "      <td>143</td>\n",
       "      <td>2</td>\n",
       "      <td>18.40</td>\n",
       "      <td>...</td>\n",
       "      <td>23.40</td>\n",
       "      <td>2.5</td>\n",
       "      <td>0.0</td>\n",
       "      <td>2025-01-01</td>\n",
       "      <td>0</td>\n",
       "      <td>NaN</td>\n",
       "      <td>NaN</td>\n",
       "      <td>NaN</td>\n",
       "      <td>NaN</td>\n",
       "      <td>NaN</td>\n",
       "    </tr>\n",
       "    <tr>\n",
       "      <th>...</th>\n",
       "      <td>...</td>\n",
       "      <td>...</td>\n",
       "      <td>...</td>\n",
       "      <td>...</td>\n",
       "      <td>...</td>\n",
       "      <td>...</td>\n",
       "      <td>...</td>\n",
       "      <td>...</td>\n",
       "      <td>...</td>\n",
       "      <td>...</td>\n",
       "      <td>...</td>\n",
       "      <td>...</td>\n",
       "      <td>...</td>\n",
       "      <td>...</td>\n",
       "      <td>...</td>\n",
       "      <td>...</td>\n",
       "      <td>...</td>\n",
       "      <td>...</td>\n",
       "      <td>...</td>\n",
       "      <td>...</td>\n",
       "      <td>...</td>\n",
       "    </tr>\n",
       "    <tr>\n",
       "      <th>520021</th>\n",
       "      <td>2</td>\n",
       "      <td>2023-02-28 23:28:03</td>\n",
       "      <td>2023-03-01 00:00:31</td>\n",
       "      <td>2.0</td>\n",
       "      <td>5.95</td>\n",
       "      <td>1.0</td>\n",
       "      <td>113</td>\n",
       "      <td>37</td>\n",
       "      <td>1</td>\n",
       "      <td>33.10</td>\n",
       "      <td>...</td>\n",
       "      <td>45.72</td>\n",
       "      <td>2.5</td>\n",
       "      <td>0.0</td>\n",
       "      <td>2023-02-28</td>\n",
       "      <td>23</td>\n",
       "      <td>NaN</td>\n",
       "      <td>NaN</td>\n",
       "      <td>NaN</td>\n",
       "      <td>NaN</td>\n",
       "      <td>NaN</td>\n",
       "    </tr>\n",
       "    <tr>\n",
       "      <th>520022</th>\n",
       "      <td>1</td>\n",
       "      <td>2023-02-28 23:40:08</td>\n",
       "      <td>2023-02-28 23:46:56</td>\n",
       "      <td>1.0</td>\n",
       "      <td>2.10</td>\n",
       "      <td>1.0</td>\n",
       "      <td>170</td>\n",
       "      <td>263</td>\n",
       "      <td>1</td>\n",
       "      <td>10.70</td>\n",
       "      <td>...</td>\n",
       "      <td>18.85</td>\n",
       "      <td>2.5</td>\n",
       "      <td>0.0</td>\n",
       "      <td>2023-02-28</td>\n",
       "      <td>23</td>\n",
       "      <td>NaN</td>\n",
       "      <td>NaN</td>\n",
       "      <td>NaN</td>\n",
       "      <td>NaN</td>\n",
       "      <td>NaN</td>\n",
       "    </tr>\n",
       "    <tr>\n",
       "      <th>520023</th>\n",
       "      <td>2</td>\n",
       "      <td>2023-02-28 23:08:26</td>\n",
       "      <td>2023-02-28 23:10:31</td>\n",
       "      <td>1.0</td>\n",
       "      <td>0.50</td>\n",
       "      <td>1.0</td>\n",
       "      <td>164</td>\n",
       "      <td>234</td>\n",
       "      <td>1</td>\n",
       "      <td>5.10</td>\n",
       "      <td>...</td>\n",
       "      <td>12.12</td>\n",
       "      <td>2.5</td>\n",
       "      <td>0.0</td>\n",
       "      <td>2023-02-28</td>\n",
       "      <td>23</td>\n",
       "      <td>NaN</td>\n",
       "      <td>NaN</td>\n",
       "      <td>NaN</td>\n",
       "      <td>NaN</td>\n",
       "      <td>NaN</td>\n",
       "    </tr>\n",
       "    <tr>\n",
       "      <th>520024</th>\n",
       "      <td>2</td>\n",
       "      <td>2023-02-28 23:14:40</td>\n",
       "      <td>2023-02-28 23:31:39</td>\n",
       "      <td>1.0</td>\n",
       "      <td>0.00</td>\n",
       "      <td>1.0</td>\n",
       "      <td>162</td>\n",
       "      <td>151</td>\n",
       "      <td>1</td>\n",
       "      <td>14.20</td>\n",
       "      <td>...</td>\n",
       "      <td>21.20</td>\n",
       "      <td>2.5</td>\n",
       "      <td>0.0</td>\n",
       "      <td>2023-02-28</td>\n",
       "      <td>23</td>\n",
       "      <td>NaN</td>\n",
       "      <td>NaN</td>\n",
       "      <td>NaN</td>\n",
       "      <td>NaN</td>\n",
       "      <td>NaN</td>\n",
       "    </tr>\n",
       "    <tr>\n",
       "      <th>520025</th>\n",
       "      <td>1</td>\n",
       "      <td>2023-02-28 23:49:14</td>\n",
       "      <td>2023-03-01 00:06:29</td>\n",
       "      <td>1.0</td>\n",
       "      <td>4.20</td>\n",
       "      <td>1.0</td>\n",
       "      <td>230</td>\n",
       "      <td>41</td>\n",
       "      <td>1</td>\n",
       "      <td>20.50</td>\n",
       "      <td>...</td>\n",
       "      <td>30.60</td>\n",
       "      <td>2.5</td>\n",
       "      <td>0.0</td>\n",
       "      <td>2023-02-28</td>\n",
       "      <td>23</td>\n",
       "      <td>NaN</td>\n",
       "      <td>NaN</td>\n",
       "      <td>NaN</td>\n",
       "      <td>NaN</td>\n",
       "      <td>NaN</td>\n",
       "    </tr>\n",
       "  </tbody>\n",
       "</table>\n",
       "<p>520026 rows × 23 columns</p>\n",
       "</div>"
      ],
      "text/plain": [
       "        VendorID tpep_pickup_datetime tpep_dropoff_datetime  passenger_count  \\\n",
       "0              2  2025-01-01 00:36:00   2025-01-01 01:04:56              1.0   \n",
       "1              2  2025-01-01 00:14:06   2025-01-01 00:51:56              1.0   \n",
       "2              2  2025-01-01 00:23:15   2025-01-01 00:28:01              1.0   \n",
       "3              2  2025-01-01 00:55:00   2025-01-01 01:03:32              NaN   \n",
       "4              2  2025-01-01 00:45:31   2025-01-01 01:05:16              1.0   \n",
       "...          ...                  ...                   ...              ...   \n",
       "520021         2  2023-02-28 23:28:03   2023-03-01 00:00:31              2.0   \n",
       "520022         1  2023-02-28 23:40:08   2023-02-28 23:46:56              1.0   \n",
       "520023         2  2023-02-28 23:08:26   2023-02-28 23:10:31              1.0   \n",
       "520024         2  2023-02-28 23:14:40   2023-02-28 23:31:39              1.0   \n",
       "520025         1  2023-02-28 23:49:14   2023-03-01 00:06:29              1.0   \n",
       "\n",
       "        trip_distance  RatecodeID  PULocationID  DOLocationID  payment_type  \\\n",
       "0                3.63         1.0           234           143             1   \n",
       "1               16.44         5.0           132           113             1   \n",
       "2                0.91         1.0           142           239             1   \n",
       "3                1.55         NaN            40           228             0   \n",
       "4                2.16         1.0           162           143             2   \n",
       "...               ...         ...           ...           ...           ...   \n",
       "520021           5.95         1.0           113            37             1   \n",
       "520022           2.10         1.0           170           263             1   \n",
       "520023           0.50         1.0           164           234             1   \n",
       "520024           0.00         1.0           162           151             1   \n",
       "520025           4.20         1.0           230            41             1   \n",
       "\n",
       "        fare_amount  ...  total_amount  congestion_surcharge  Airport_fee  \\\n",
       "0             27.50  ...         39.00                   2.5          0.0   \n",
       "1             87.00  ...        107.44                   2.5          0.0   \n",
       "2              7.20  ...         14.64                   2.5          0.0   \n",
       "3             -3.28  ...          1.11                   NaN          NaN   \n",
       "4             18.40  ...         23.40                   2.5          0.0   \n",
       "...             ...  ...           ...                   ...          ...   \n",
       "520021        33.10  ...         45.72                   2.5          0.0   \n",
       "520022        10.70  ...         18.85                   2.5          0.0   \n",
       "520023         5.10  ...         12.12                   2.5          0.0   \n",
       "520024        14.20  ...         21.20                   2.5          0.0   \n",
       "520025        20.50  ...         30.60                   2.5          0.0   \n",
       "\n",
       "        pickup_date  pickup_hour  airport_fee Unnamed: 0  tpep_pickup_date  \\\n",
       "0        2025-01-01            0          NaN        NaN               NaN   \n",
       "1        2025-01-01            0          NaN        NaN               NaN   \n",
       "2        2025-01-01            0          NaN        NaN               NaN   \n",
       "3        2025-01-01            0          NaN        NaN               NaN   \n",
       "4        2025-01-01            0          NaN        NaN               NaN   \n",
       "...             ...          ...          ...        ...               ...   \n",
       "520021   2023-02-28           23          NaN        NaN               NaN   \n",
       "520022   2023-02-28           23          NaN        NaN               NaN   \n",
       "520023   2023-02-28           23          NaN        NaN               NaN   \n",
       "520024   2023-02-28           23          NaN        NaN               NaN   \n",
       "520025   2023-02-28           23          NaN        NaN               NaN   \n",
       "\n",
       "        tpep_pickup_time  pickup_datetime  \n",
       "0                    NaN              NaN  \n",
       "1                    NaN              NaN  \n",
       "2                    NaN              NaN  \n",
       "3                    NaN              NaN  \n",
       "4                    NaN              NaN  \n",
       "...                  ...              ...  \n",
       "520021               NaN              NaN  \n",
       "520022               NaN              NaN  \n",
       "520023               NaN              NaN  \n",
       "520024               NaN              NaN  \n",
       "520025               NaN              NaN  \n",
       "\n",
       "[520026 rows x 23 columns]"
      ]
     },
     "execution_count": 88,
     "metadata": {},
     "output_type": "execute_result"
    }
   ],
   "source": [
    "# Fix the index and drop any columns that are not needed\n",
    "\n",
    "# Dropping columns that are not useful for analysis\n",
    "columns_to_drop = ['store_and_fwd_flag', 'extra', 'mta_tax']\n",
    "df_filtered.drop(columns=[col for col in columns_to_drop if col in df_filtered.columns], inplace=True)\n",
    "\n",
    "# Reset the index\n",
    "df_filtered.reset_index(drop=True, inplace=True)\n",
    "\n",
    "# Display the cleaned DataFrame\n",
    "df_filtered\n"
   ]
  },
  {
   "cell_type": "markdown",
   "metadata": {
    "id": "TIFmxvIT2wsn"
   },
   "source": [
    "**2.1.2** <font color = red>[3 marks]</font> <br>\n",
    "There are two airport fee columns. This is possibly an error in naming columns. Let's see whether these can be combined into a single column."
   ]
  },
  {
   "cell_type": "code",
   "execution_count": 91,
   "metadata": {
    "id": "rmtgnb1x6TrV"
   },
   "outputs": [
    {
     "name": "stdout",
     "output_type": "stream",
     "text": [
      "   airport_fee_combined\n",
      "0                   0.0\n",
      "1                   0.0\n",
      "2                   0.0\n",
      "3                   NaN\n",
      "4                   0.0\n"
     ]
    }
   ],
   "source": [
    "# Handle and normalize airport fee column(s)\n",
    "if 'Airport_fee' in df_filtered.columns and 'Airport_fee.1' in df_filtered.columns:\n",
    "    df_filtered['airport_fee_combined'] = df_filtered['Airport_fee'].fillna(0) + df_filtered['Airport_fee.1'].fillna(0)\n",
    "    df_filtered.drop(['Airport_fee', 'Airport_fee.1'], axis=1, inplace=True)\n",
    "\n",
    "elif 'Airport_fee' in df_filtered.columns:\n",
    "    df_filtered.rename(columns={'Airport_fee': 'airport_fee_combined'}, inplace=True)\n",
    "\n",
    "elif 'Airport_fee.1' in df_filtered.columns:\n",
    "    df_filtered.rename(columns={'Airport_fee.1': 'airport_fee_combined'}, inplace=True)\n",
    "\n",
    "# Now preview safely\n",
    "if 'airport_fee_combined' in df_filtered.columns:\n",
    "    print(df_filtered[['airport_fee_combined']].head())\n",
    "else:\n",
    "    print(\"No airport fee column found or combined.\")\n",
    "\n",
    "\n"
   ]
  },
  {
   "cell_type": "markdown",
   "metadata": {
    "id": "1g4AHG7mOYgP"
   },
   "source": [
    "**2.1.3** <font color = red>[5 marks]</font> <br>\n",
    "Fix columns with negative (monetary) values"
   ]
  },
  {
   "cell_type": "code",
   "execution_count": 93,
   "metadata": {
    "id": "nBsMT2MII1Hv"
   },
   "outputs": [
    {
     "name": "stdout",
     "output_type": "stream",
     "text": [
      "Type of df_filtered: <class 'pandas.core.frame.DataFrame'>\n",
      "Number of rows with negative fare_amount: 10561\n"
     ]
    },
    {
     "data": {
      "text/html": [
       "<div>\n",
       "<style scoped>\n",
       "    .dataframe tbody tr th:only-of-type {\n",
       "        vertical-align: middle;\n",
       "    }\n",
       "\n",
       "    .dataframe tbody tr th {\n",
       "        vertical-align: top;\n",
       "    }\n",
       "\n",
       "    .dataframe thead th {\n",
       "        text-align: right;\n",
       "    }\n",
       "</style>\n",
       "<table border=\"1\" class=\"dataframe\">\n",
       "  <thead>\n",
       "    <tr style=\"text-align: right;\">\n",
       "      <th></th>\n",
       "      <th>VendorID</th>\n",
       "      <th>tpep_pickup_datetime</th>\n",
       "      <th>tpep_dropoff_datetime</th>\n",
       "      <th>passenger_count</th>\n",
       "      <th>trip_distance</th>\n",
       "      <th>RatecodeID</th>\n",
       "      <th>PULocationID</th>\n",
       "      <th>DOLocationID</th>\n",
       "      <th>payment_type</th>\n",
       "      <th>fare_amount</th>\n",
       "      <th>...</th>\n",
       "      <th>total_amount</th>\n",
       "      <th>congestion_surcharge</th>\n",
       "      <th>airport_fee_combined</th>\n",
       "      <th>pickup_date</th>\n",
       "      <th>pickup_hour</th>\n",
       "      <th>airport_fee</th>\n",
       "      <th>Unnamed: 0</th>\n",
       "      <th>tpep_pickup_date</th>\n",
       "      <th>tpep_pickup_time</th>\n",
       "      <th>pickup_datetime</th>\n",
       "    </tr>\n",
       "  </thead>\n",
       "  <tbody>\n",
       "    <tr>\n",
       "      <th>3</th>\n",
       "      <td>2</td>\n",
       "      <td>2025-01-01 00:55:00</td>\n",
       "      <td>2025-01-01 01:03:32</td>\n",
       "      <td>NaN</td>\n",
       "      <td>1.55</td>\n",
       "      <td>NaN</td>\n",
       "      <td>40</td>\n",
       "      <td>228</td>\n",
       "      <td>0</td>\n",
       "      <td>-3.28</td>\n",
       "      <td>...</td>\n",
       "      <td>1.11</td>\n",
       "      <td>NaN</td>\n",
       "      <td>NaN</td>\n",
       "      <td>2025-01-01</td>\n",
       "      <td>0</td>\n",
       "      <td>NaN</td>\n",
       "      <td>NaN</td>\n",
       "      <td>NaN</td>\n",
       "      <td>NaN</td>\n",
       "      <td>NaN</td>\n",
       "    </tr>\n",
       "    <tr>\n",
       "      <th>21</th>\n",
       "      <td>2</td>\n",
       "      <td>2025-01-01 00:38:14</td>\n",
       "      <td>2025-01-01 00:51:09</td>\n",
       "      <td>NaN</td>\n",
       "      <td>1.50</td>\n",
       "      <td>NaN</td>\n",
       "      <td>107</td>\n",
       "      <td>211</td>\n",
       "      <td>0</td>\n",
       "      <td>-4.89</td>\n",
       "      <td>...</td>\n",
       "      <td>-0.89</td>\n",
       "      <td>NaN</td>\n",
       "      <td>NaN</td>\n",
       "      <td>2025-01-01</td>\n",
       "      <td>0</td>\n",
       "      <td>NaN</td>\n",
       "      <td>NaN</td>\n",
       "      <td>NaN</td>\n",
       "      <td>NaN</td>\n",
       "      <td>NaN</td>\n",
       "    </tr>\n",
       "    <tr>\n",
       "      <th>35</th>\n",
       "      <td>2</td>\n",
       "      <td>2025-01-01 00:32:49</td>\n",
       "      <td>2025-01-01 00:39:27</td>\n",
       "      <td>NaN</td>\n",
       "      <td>0.65</td>\n",
       "      <td>NaN</td>\n",
       "      <td>211</td>\n",
       "      <td>144</td>\n",
       "      <td>0</td>\n",
       "      <td>-0.54</td>\n",
       "      <td>...</td>\n",
       "      <td>3.46</td>\n",
       "      <td>NaN</td>\n",
       "      <td>NaN</td>\n",
       "      <td>2025-01-01</td>\n",
       "      <td>0</td>\n",
       "      <td>NaN</td>\n",
       "      <td>NaN</td>\n",
       "      <td>NaN</td>\n",
       "      <td>NaN</td>\n",
       "      <td>NaN</td>\n",
       "    </tr>\n",
       "    <tr>\n",
       "      <th>73</th>\n",
       "      <td>2</td>\n",
       "      <td>2025-01-01 00:54:48</td>\n",
       "      <td>2025-01-01 01:29:42</td>\n",
       "      <td>NaN</td>\n",
       "      <td>17.43</td>\n",
       "      <td>NaN</td>\n",
       "      <td>252</td>\n",
       "      <td>261</td>\n",
       "      <td>0</td>\n",
       "      <td>-0.62</td>\n",
       "      <td>...</td>\n",
       "      <td>3.38</td>\n",
       "      <td>NaN</td>\n",
       "      <td>NaN</td>\n",
       "      <td>2025-01-01</td>\n",
       "      <td>0</td>\n",
       "      <td>NaN</td>\n",
       "      <td>NaN</td>\n",
       "      <td>NaN</td>\n",
       "      <td>NaN</td>\n",
       "      <td>NaN</td>\n",
       "    </tr>\n",
       "    <tr>\n",
       "      <th>95</th>\n",
       "      <td>2</td>\n",
       "      <td>2025-01-01 00:55:01</td>\n",
       "      <td>2025-01-01 01:04:56</td>\n",
       "      <td>NaN</td>\n",
       "      <td>0.67</td>\n",
       "      <td>NaN</td>\n",
       "      <td>170</td>\n",
       "      <td>162</td>\n",
       "      <td>0</td>\n",
       "      <td>-2.82</td>\n",
       "      <td>...</td>\n",
       "      <td>1.18</td>\n",
       "      <td>NaN</td>\n",
       "      <td>NaN</td>\n",
       "      <td>2025-01-01</td>\n",
       "      <td>0</td>\n",
       "      <td>NaN</td>\n",
       "      <td>NaN</td>\n",
       "      <td>NaN</td>\n",
       "      <td>NaN</td>\n",
       "      <td>NaN</td>\n",
       "    </tr>\n",
       "  </tbody>\n",
       "</table>\n",
       "<p>5 rows × 23 columns</p>\n",
       "</div>"
      ],
      "text/plain": [
       "    VendorID tpep_pickup_datetime tpep_dropoff_datetime  passenger_count  \\\n",
       "3          2  2025-01-01 00:55:00   2025-01-01 01:03:32              NaN   \n",
       "21         2  2025-01-01 00:38:14   2025-01-01 00:51:09              NaN   \n",
       "35         2  2025-01-01 00:32:49   2025-01-01 00:39:27              NaN   \n",
       "73         2  2025-01-01 00:54:48   2025-01-01 01:29:42              NaN   \n",
       "95         2  2025-01-01 00:55:01   2025-01-01 01:04:56              NaN   \n",
       "\n",
       "    trip_distance  RatecodeID  PULocationID  DOLocationID  payment_type  \\\n",
       "3            1.55         NaN            40           228             0   \n",
       "21           1.50         NaN           107           211             0   \n",
       "35           0.65         NaN           211           144             0   \n",
       "73          17.43         NaN           252           261             0   \n",
       "95           0.67         NaN           170           162             0   \n",
       "\n",
       "    fare_amount  ...  total_amount  congestion_surcharge  \\\n",
       "3         -3.28  ...          1.11                   NaN   \n",
       "21        -4.89  ...         -0.89                   NaN   \n",
       "35        -0.54  ...          3.46                   NaN   \n",
       "73        -0.62  ...          3.38                   NaN   \n",
       "95        -2.82  ...          1.18                   NaN   \n",
       "\n",
       "    airport_fee_combined  pickup_date  pickup_hour  airport_fee Unnamed: 0  \\\n",
       "3                    NaN   2025-01-01            0          NaN        NaN   \n",
       "21                   NaN   2025-01-01            0          NaN        NaN   \n",
       "35                   NaN   2025-01-01            0          NaN        NaN   \n",
       "73                   NaN   2025-01-01            0          NaN        NaN   \n",
       "95                   NaN   2025-01-01            0          NaN        NaN   \n",
       "\n",
       "    tpep_pickup_date  tpep_pickup_time  pickup_datetime  \n",
       "3                NaN               NaN              NaN  \n",
       "21               NaN               NaN              NaN  \n",
       "35               NaN               NaN              NaN  \n",
       "73               NaN               NaN              NaN  \n",
       "95               NaN               NaN              NaN  \n",
       "\n",
       "[5 rows x 23 columns]"
      ]
     },
     "execution_count": 93,
     "metadata": {},
     "output_type": "execute_result"
    }
   ],
   "source": [
    "# check where values of fare amount are negative\n",
    "\n",
    "#  Step 1: Ensure df_filtered is a DataFrame\n",
    "print(\"Type of df_filtered:\", type(df_filtered))\n",
    "\n",
    "#  Step 2: Filter rows where fare_amount is negative\n",
    "# These might be data entry errors or edge cases\n",
    "negative_fares = df_filtered[df_filtered['fare_amount'] < 0]\n",
    "\n",
    "#  Step 3: Display how many such rows exist\n",
    "print(f\"Number of rows with negative fare_amount: {len(negative_fares)}\")\n",
    "\n",
    "#  Step 4: Show first few rows to inspect\n",
    "negative_fares.head()"
   ]
  },
  {
   "cell_type": "markdown",
   "metadata": {
    "id": "JNKpDtTh8awi"
   },
   "source": [
    "Did you notice something different in the `RatecodeID` column for above records?"
   ]
  },
  {
   "cell_type": "code",
   "execution_count": 95,
   "metadata": {
    "id": "9eVrrj7c3kjq"
   },
   "outputs": [
    {
     "name": "stdout",
     "output_type": "stream",
     "text": [
      "RatecodeID\n",
      "1.0    5399\n",
      "2.0     389\n",
      "3.0      76\n",
      "4.0      25\n",
      "5.0     139\n",
      "Name: count, dtype: int64\n"
     ]
    }
   ],
   "source": [
    "# Group and count the RatecodeID values for negative fare amounts\n",
    "ratecode_negative_fares = negative_fares['RatecodeID'].value_counts().sort_index()\n",
    "\n",
    "# Display the result\n",
    "print(ratecode_negative_fares)"
   ]
  },
  {
   "cell_type": "code",
   "execution_count": 99,
   "metadata": {
    "id": "Ruyh2vaCRNxr"
   },
   "outputs": [
    {
     "name": "stdout",
     "output_type": "stream",
     "text": [
      "Columns with negative values and their counts:\n",
      "VendorID                     0\n",
      "passenger_count              0\n",
      "trip_distance                0\n",
      "RatecodeID                   0\n",
      "PULocationID                 0\n",
      "DOLocationID                 0\n",
      "payment_type                 0\n",
      "fare_amount              10561\n",
      "tip_amount                  50\n",
      "tolls_amount               396\n",
      "improvement_surcharge     6074\n",
      "total_amount              6287\n",
      "congestion_surcharge      4819\n",
      "airport_fee_combined       725\n",
      "pickup_hour                  0\n",
      "airport_fee                191\n",
      "Unnamed: 0                   0\n",
      "tpep_pickup_date             0\n",
      "tpep_pickup_time             0\n",
      "pickup_datetime              0\n",
      "dtype: int64\n"
     ]
    }
   ],
   "source": [
    "# Step 1: Select only numeric columns\n",
    "numeric_columns = df_filtered.select_dtypes(include=['number'])\n",
    "\n",
    "# Step 2: Check for negative values in numeric columns\n",
    "negative_values = (numeric_columns < 0).sum()\n",
    "\n",
    "# Step 3: Display columns with negative values and their counts\n",
    "print(\"Columns with negative values and their counts:\")\n",
    "print(negative_values)"
   ]
  },
  {
   "cell_type": "code",
   "execution_count": 101,
   "metadata": {
    "id": "mPehZ6PJg3_J"
   },
   "outputs": [
    {
     "name": "stdout",
     "output_type": "stream",
     "text": [
      "Remaining rows after removing negative values: 509418\n"
     ]
    }
   ],
   "source": [
    "# Step 1: Identify columns with negative values\n",
    "negative_columns = ['fare_amount', 'tip_amount', 'tolls_amount', 'total_amount']  # Add more columns if needed\n",
    "\n",
    "# Step 2: Filter out rows where these columns have negative values\n",
    "df_filtered = df_filtered[(df_filtered[negative_columns] >= 0).all(axis=1)].copy()\n",
    "\n",
    "# Step 3: Confirm removal\n",
    "print(\"Remaining rows after removing negative values:\", df_filtered.shape[0])"
   ]
  },
  {
   "cell_type": "markdown",
   "metadata": {
    "id": "x2hakCCy6wXI"
   },
   "source": [
    "### **2.2** Handling Missing Values\n",
    "<font color = red>[10 marks]</font> <br>"
   ]
  },
  {
   "cell_type": "markdown",
   "metadata": {
    "id": "-K-QNPDVVhzR"
   },
   "source": [
    "**2.2.1**  <font color = red>[2 marks]</font> <br>\n",
    "Find the proportion of missing values in each column\n",
    "\n",
    "\n"
   ]
  },
  {
   "cell_type": "code",
   "execution_count": 103,
   "metadata": {
    "id": "tfTa9cct6Gec"
   },
   "outputs": [
    {
     "name": "stdout",
     "output_type": "stream",
     "text": [
      "Proportion of Missing Values (%):\n",
      "pickup_datetime          100.00\n",
      "tpep_pickup_time         100.00\n",
      "tpep_pickup_date         100.00\n",
      "Unnamed: 0               100.00\n",
      "airport_fee               67.94\n",
      "airport_fee_combined      38.46\n",
      "passenger_count            6.40\n",
      "RatecodeID                 6.40\n",
      "congestion_surcharge       6.40\n",
      "total_amount               0.00\n",
      "pickup_hour                0.00\n",
      "pickup_date                0.00\n",
      "VendorID                   0.00\n",
      "improvement_surcharge      0.00\n",
      "tpep_pickup_datetime       0.00\n",
      "tip_amount                 0.00\n",
      "fare_amount                0.00\n",
      "payment_type               0.00\n",
      "DOLocationID               0.00\n",
      "PULocationID               0.00\n",
      "trip_distance              0.00\n",
      "tpep_dropoff_datetime      0.00\n",
      "tolls_amount               0.00\n",
      "dtype: float64\n"
     ]
    }
   ],
   "source": [
    "# Find the proportion of missing values in each column\n",
    "# Calculate proportion of missing values for each column\n",
    "missing_proportion = df_filtered.isnull().mean().sort_values(ascending=False)\n",
    "\n",
    "# Display missing value proportions as percentages\n",
    "missing_proportion = (missing_proportion * 100).round(2)\n",
    "\n",
    "# Print the result\n",
    "print(\"Proportion of Missing Values (%):\")\n",
    "print(missing_proportion)\n"
   ]
  },
  {
   "cell_type": "markdown",
   "metadata": {
    "id": "-UdUl6AL_-E_"
   },
   "source": [
    "**2.2.2**  <font color = red>[3 marks]</font> <br>\n",
    "Handling missing values in `passenger_count`"
   ]
  },
  {
   "cell_type": "code",
   "execution_count": 105,
   "metadata": {
    "id": "JmNmhr4q8Xys"
   },
   "outputs": [
    {
     "name": "stdout",
     "output_type": "stream",
     "text": [
      "Number of rows with missing values: 509418\n"
     ]
    },
    {
     "data": {
      "text/html": [
       "<div>\n",
       "<style scoped>\n",
       "    .dataframe tbody tr th:only-of-type {\n",
       "        vertical-align: middle;\n",
       "    }\n",
       "\n",
       "    .dataframe tbody tr th {\n",
       "        vertical-align: top;\n",
       "    }\n",
       "\n",
       "    .dataframe thead th {\n",
       "        text-align: right;\n",
       "    }\n",
       "</style>\n",
       "<table border=\"1\" class=\"dataframe\">\n",
       "  <thead>\n",
       "    <tr style=\"text-align: right;\">\n",
       "      <th></th>\n",
       "      <th>VendorID</th>\n",
       "      <th>tpep_pickup_datetime</th>\n",
       "      <th>tpep_dropoff_datetime</th>\n",
       "      <th>passenger_count</th>\n",
       "      <th>trip_distance</th>\n",
       "      <th>RatecodeID</th>\n",
       "      <th>PULocationID</th>\n",
       "      <th>DOLocationID</th>\n",
       "      <th>payment_type</th>\n",
       "      <th>fare_amount</th>\n",
       "      <th>...</th>\n",
       "      <th>total_amount</th>\n",
       "      <th>congestion_surcharge</th>\n",
       "      <th>airport_fee_combined</th>\n",
       "      <th>pickup_date</th>\n",
       "      <th>pickup_hour</th>\n",
       "      <th>airport_fee</th>\n",
       "      <th>Unnamed: 0</th>\n",
       "      <th>tpep_pickup_date</th>\n",
       "      <th>tpep_pickup_time</th>\n",
       "      <th>pickup_datetime</th>\n",
       "    </tr>\n",
       "  </thead>\n",
       "  <tbody>\n",
       "    <tr>\n",
       "      <th>0</th>\n",
       "      <td>2</td>\n",
       "      <td>2025-01-01 00:36:00</td>\n",
       "      <td>2025-01-01 01:04:56</td>\n",
       "      <td>1.0</td>\n",
       "      <td>3.63</td>\n",
       "      <td>1.0</td>\n",
       "      <td>234</td>\n",
       "      <td>143</td>\n",
       "      <td>1</td>\n",
       "      <td>27.5</td>\n",
       "      <td>...</td>\n",
       "      <td>39.00</td>\n",
       "      <td>2.5</td>\n",
       "      <td>0.0</td>\n",
       "      <td>2025-01-01</td>\n",
       "      <td>0</td>\n",
       "      <td>NaN</td>\n",
       "      <td>NaN</td>\n",
       "      <td>NaN</td>\n",
       "      <td>NaN</td>\n",
       "      <td>NaN</td>\n",
       "    </tr>\n",
       "    <tr>\n",
       "      <th>1</th>\n",
       "      <td>2</td>\n",
       "      <td>2025-01-01 00:14:06</td>\n",
       "      <td>2025-01-01 00:51:56</td>\n",
       "      <td>1.0</td>\n",
       "      <td>16.44</td>\n",
       "      <td>5.0</td>\n",
       "      <td>132</td>\n",
       "      <td>113</td>\n",
       "      <td>1</td>\n",
       "      <td>87.0</td>\n",
       "      <td>...</td>\n",
       "      <td>107.44</td>\n",
       "      <td>2.5</td>\n",
       "      <td>0.0</td>\n",
       "      <td>2025-01-01</td>\n",
       "      <td>0</td>\n",
       "      <td>NaN</td>\n",
       "      <td>NaN</td>\n",
       "      <td>NaN</td>\n",
       "      <td>NaN</td>\n",
       "      <td>NaN</td>\n",
       "    </tr>\n",
       "    <tr>\n",
       "      <th>2</th>\n",
       "      <td>2</td>\n",
       "      <td>2025-01-01 00:23:15</td>\n",
       "      <td>2025-01-01 00:28:01</td>\n",
       "      <td>1.0</td>\n",
       "      <td>0.91</td>\n",
       "      <td>1.0</td>\n",
       "      <td>142</td>\n",
       "      <td>239</td>\n",
       "      <td>1</td>\n",
       "      <td>7.2</td>\n",
       "      <td>...</td>\n",
       "      <td>14.64</td>\n",
       "      <td>2.5</td>\n",
       "      <td>0.0</td>\n",
       "      <td>2025-01-01</td>\n",
       "      <td>0</td>\n",
       "      <td>NaN</td>\n",
       "      <td>NaN</td>\n",
       "      <td>NaN</td>\n",
       "      <td>NaN</td>\n",
       "      <td>NaN</td>\n",
       "    </tr>\n",
       "    <tr>\n",
       "      <th>4</th>\n",
       "      <td>2</td>\n",
       "      <td>2025-01-01 00:45:31</td>\n",
       "      <td>2025-01-01 01:05:16</td>\n",
       "      <td>1.0</td>\n",
       "      <td>2.16</td>\n",
       "      <td>1.0</td>\n",
       "      <td>162</td>\n",
       "      <td>143</td>\n",
       "      <td>2</td>\n",
       "      <td>18.4</td>\n",
       "      <td>...</td>\n",
       "      <td>23.40</td>\n",
       "      <td>2.5</td>\n",
       "      <td>0.0</td>\n",
       "      <td>2025-01-01</td>\n",
       "      <td>0</td>\n",
       "      <td>NaN</td>\n",
       "      <td>NaN</td>\n",
       "      <td>NaN</td>\n",
       "      <td>NaN</td>\n",
       "      <td>NaN</td>\n",
       "    </tr>\n",
       "    <tr>\n",
       "      <th>5</th>\n",
       "      <td>2</td>\n",
       "      <td>2025-01-01 00:46:31</td>\n",
       "      <td>2025-01-01 00:57:04</td>\n",
       "      <td>3.0</td>\n",
       "      <td>1.53</td>\n",
       "      <td>1.0</td>\n",
       "      <td>148</td>\n",
       "      <td>231</td>\n",
       "      <td>1</td>\n",
       "      <td>11.4</td>\n",
       "      <td>...</td>\n",
       "      <td>19.68</td>\n",
       "      <td>2.5</td>\n",
       "      <td>0.0</td>\n",
       "      <td>2025-01-01</td>\n",
       "      <td>0</td>\n",
       "      <td>NaN</td>\n",
       "      <td>NaN</td>\n",
       "      <td>NaN</td>\n",
       "      <td>NaN</td>\n",
       "      <td>NaN</td>\n",
       "    </tr>\n",
       "  </tbody>\n",
       "</table>\n",
       "<p>5 rows × 23 columns</p>\n",
       "</div>"
      ],
      "text/plain": [
       "   VendorID tpep_pickup_datetime tpep_dropoff_datetime  passenger_count  \\\n",
       "0         2  2025-01-01 00:36:00   2025-01-01 01:04:56              1.0   \n",
       "1         2  2025-01-01 00:14:06   2025-01-01 00:51:56              1.0   \n",
       "2         2  2025-01-01 00:23:15   2025-01-01 00:28:01              1.0   \n",
       "4         2  2025-01-01 00:45:31   2025-01-01 01:05:16              1.0   \n",
       "5         2  2025-01-01 00:46:31   2025-01-01 00:57:04              3.0   \n",
       "\n",
       "   trip_distance  RatecodeID  PULocationID  DOLocationID  payment_type  \\\n",
       "0           3.63         1.0           234           143             1   \n",
       "1          16.44         5.0           132           113             1   \n",
       "2           0.91         1.0           142           239             1   \n",
       "4           2.16         1.0           162           143             2   \n",
       "5           1.53         1.0           148           231             1   \n",
       "\n",
       "   fare_amount  ...  total_amount  congestion_surcharge  airport_fee_combined  \\\n",
       "0         27.5  ...         39.00                   2.5                   0.0   \n",
       "1         87.0  ...        107.44                   2.5                   0.0   \n",
       "2          7.2  ...         14.64                   2.5                   0.0   \n",
       "4         18.4  ...         23.40                   2.5                   0.0   \n",
       "5         11.4  ...         19.68                   2.5                   0.0   \n",
       "\n",
       "   pickup_date  pickup_hour  airport_fee Unnamed: 0  tpep_pickup_date  \\\n",
       "0   2025-01-01            0          NaN        NaN               NaN   \n",
       "1   2025-01-01            0          NaN        NaN               NaN   \n",
       "2   2025-01-01            0          NaN        NaN               NaN   \n",
       "4   2025-01-01            0          NaN        NaN               NaN   \n",
       "5   2025-01-01            0          NaN        NaN               NaN   \n",
       "\n",
       "   tpep_pickup_time  pickup_datetime  \n",
       "0               NaN              NaN  \n",
       "1               NaN              NaN  \n",
       "2               NaN              NaN  \n",
       "4               NaN              NaN  \n",
       "5               NaN              NaN  \n",
       "\n",
       "[5 rows x 23 columns]"
      ]
     },
     "execution_count": 105,
     "metadata": {},
     "output_type": "execute_result"
    }
   ],
   "source": [
    "# Display the rows with null values\n",
    "# Impute NaN values in 'passenger_count'\n",
    "# Display rows that contain at least one null value\n",
    "null_rows = df_filtered[df_filtered.isnull().any(axis=1)]\n",
    "print(f\"Number of rows with missing values: {len(null_rows)}\")\n",
    "null_rows.head()"
   ]
  },
  {
   "cell_type": "markdown",
   "metadata": {
    "id": "hIPCyR6UCw0c"
   },
   "source": [
    "Did you find zeroes in passenger_count? Handle these."
   ]
  },
  {
   "cell_type": "markdown",
   "metadata": {
    "id": "IUr4fwkjBUTQ"
   },
   "source": [
    "**2.2.3**  <font color = red>[2 marks]</font> <br>\n",
    "Handle missing values in `RatecodeID`"
   ]
  },
  {
   "cell_type": "code",
   "execution_count": 107,
   "metadata": {
    "id": "qEgFxytzBkrB"
   },
   "outputs": [
    {
     "name": "stdout",
     "output_type": "stream",
     "text": [
      "Remaining missing values in 'RatecodeID': 0\n"
     ]
    },
    {
     "name": "stderr",
     "output_type": "stream",
     "text": [
      "/var/folders/jf/38g39c_d7mxdml0qg4c87l540000gn/T/ipykernel_2293/4224967263.py:3: FutureWarning: A value is trying to be set on a copy of a DataFrame or Series through chained assignment using an inplace method.\n",
      "The behavior will change in pandas 3.0. This inplace method will never work because the intermediate object on which we are setting values always behaves as a copy.\n",
      "\n",
      "For example, when doing 'df[col].method(value, inplace=True)', try using 'df.method({col: value}, inplace=True)' or df[col] = df[col].method(value) instead, to perform the operation inplace on the original object.\n",
      "\n",
      "\n",
      "  df_filtered['RatecodeID'].fillna(ratecode_id_mode, inplace=True)\n"
     ]
    }
   ],
   "source": [
    "# Impute NaN values in 'RatecodeID' with the mode (most frequent value)\n",
    "ratecode_id_mode = df_filtered['RatecodeID'].mode()[0]\n",
    "df_filtered['RatecodeID'].fillna(ratecode_id_mode, inplace=True)\n",
    "\n",
    "# Verify if missing values have been handled\n",
    "print(f\"Remaining missing values in 'RatecodeID': {df_filtered['RatecodeID'].isnull().sum()}\")"
   ]
  },
  {
   "cell_type": "markdown",
   "metadata": {
    "id": "0TjHXzuODCUW"
   },
   "source": [
    "**2.2.4**  <font color = red>[3 marks]</font> <br>\n",
    "Impute NaN in `congestion_surcharge`"
   ]
  },
  {
   "cell_type": "code",
   "execution_count": 109,
   "metadata": {
    "id": "HqnabUGC3xOA"
   },
   "outputs": [
    {
     "name": "stdout",
     "output_type": "stream",
     "text": [
      "Missing values in 'congestion_surcharge': 32604\n",
      "Unique non-null values in congestion_surcharge: [2.5 0. ]\n",
      "Most common value (mode): 2.5\n"
     ]
    }
   ],
   "source": [
    "# Check missing values\n",
    "missing_congestion = df_filtered['congestion_surcharge'].isnull().sum()\n",
    "print(f\"Missing values in 'congestion_surcharge': {missing_congestion}\")\n",
    "\n",
    "# View distribution of existing non-null values to decide imputation strategy\n",
    "print(\"Unique non-null values in congestion_surcharge:\", df_filtered['congestion_surcharge'].dropna().unique())\n",
    "print(\"Most common value (mode):\", df_filtered['congestion_surcharge'].mode()[0])\n",
    "\n",
    "\n"
   ]
  },
  {
   "cell_type": "markdown",
   "metadata": {
    "id": "4FZEdgAgUbPl"
   },
   "source": [
    "Are there missing values in other columns? Did you find NaN values in some other set of columns? Handle those missing values below."
   ]
  },
  {
   "cell_type": "code",
   "execution_count": 111,
   "metadata": {
    "id": "iDLpyqCRXa3K"
   },
   "outputs": [
    {
     "name": "stdout",
     "output_type": "stream",
     "text": [
      "Total remaining missing values in the dataset: 2644902\n",
      "Remaining missing values after cleanup: 0\n"
     ]
    }
   ],
   "source": [
    "# Handle any remaining missing values\n",
    "\n",
    "# Check total number of missing values remaining\n",
    "total_missing = df_filtered.isnull().sum().sum()\n",
    "print(f\"Total remaining missing values in the dataset: {total_missing}\")\n",
    "\n",
    "# Option 1: Drop all rows that still contain any NaNs (safest if small number of rows)\n",
    "df_filtered.dropna(inplace=True)\n",
    "\n",
    "# OR\n",
    "\n",
    "# Option 2: Fill remaining NaNs with 0 (only if justified by the context)\n",
    "# df_filtered.fillna(0, inplace=True)\n",
    "\n",
    "# Confirm that no missing values remain\n",
    "print(\"Remaining missing values after cleanup:\", df_filtered.isnull().sum().sum())"
   ]
  },
  {
   "cell_type": "markdown",
   "metadata": {
    "id": "2jyQyYIpCztl"
   },
   "source": [
    "### **2.3** Handling Outliers\n",
    "<font color = red>[10 marks]</font> <br>"
   ]
  },
  {
   "cell_type": "markdown",
   "metadata": {
    "id": "ZoVwZzuEMTHB"
   },
   "source": [
    "Before we start fixing outliers, let's perform outlier analysis."
   ]
  },
  {
   "cell_type": "code",
   "execution_count": null,
   "metadata": {
    "id": "zHK5K6uV8XpU"
   },
   "outputs": [],
   "source": [
    "# Describe the data and check if there are any potential outliers present\n",
    "# Check for potential out of place values in various columns\n",
    "\n"
   ]
  },
  {
   "cell_type": "markdown",
   "metadata": {
    "id": "4XDuLkufyJ2g"
   },
   "source": [
    "**2.3.1**  <font color = red>[10 marks]</font> <br>\n",
    "Based on the above analysis, it seems that some of the outliers are present due to errors in registering the trips. Fix the outliers.\n",
    "\n",
    "Some points you can look for:\n",
    "- Entries where `trip_distance` is nearly 0 and `fare_amount` is more than 300\n",
    "- Entries where `trip_distance` and `fare_amount` are 0 but the pickup and dropoff zones are different (both distance and fare should not be zero for different zones)\n",
    "- Entries where `trip_distance` is more than 250  miles.\n",
    "- Entries where `payment_type` is 0 (there is no payment_type 0 defined in the data dictionary)\n",
    "\n",
    "These are just some suggestions. You can handle outliers in any way you wish, using the insights from above outlier analysis."
   ]
  },
  {
   "cell_type": "markdown",
   "metadata": {
    "id": "u-YNHI8tea9c"
   },
   "source": [
    "How will you fix each of these values? Which ones will you drop and which ones will you replace?"
   ]
  },
  {
   "cell_type": "markdown",
   "metadata": {
    "id": "Ap4IfwXO4yZe"
   },
   "source": [
    "First, let us remove 7+ passenger counts as there are very less instances."
   ]
  },
  {
   "cell_type": "code",
   "execution_count": 113,
   "metadata": {
    "id": "XfsOFY5y9-fA"
   },
   "outputs": [
    {
     "name": "stdout",
     "output_type": "stream",
     "text": [
      "Remaining rows after removing passenger_count > 6: 0\n"
     ]
    }
   ],
   "source": [
    "# remove passenger_count > 6\n",
    "\n",
    "# Remove rows where passenger_count is greater than 6\n",
    "df_filtered = df_filtered[df_filtered['passenger_count'] <= 6]\n",
    "\n",
    "# Confirm the changes\n",
    "print(f\"Remaining rows after removing passenger_count > 6: {df_filtered.shape[0]}\")"
   ]
  },
  {
   "cell_type": "code",
   "execution_count": 115,
   "metadata": {
    "id": "FCUNe3tu8bie"
   },
   "outputs": [
    {
     "name": "stdout",
     "output_type": "stream",
     "text": [
      "Remaining rows after outlier handling: 0\n"
     ]
    }
   ],
   "source": [
    "# Continue with outlier handling\n",
    "\n",
    "# 1. Remove entries where trip_distance is nearly 0 and fare_amount is more than 300\n",
    "df_filtered = df_filtered[~((df_filtered['trip_distance'] < 0.1) & (df_filtered['fare_amount'] > 300))]\n",
    "\n",
    "# 2. Remove entries where both trip_distance and fare_amount are 0, but the pickup and dropoff zones are different\n",
    "df_filtered = df_filtered[~((df_filtered['trip_distance'] == 0) & (df_filtered['fare_amount'] == 0) & \n",
    "                             (df_filtered['PULocationID'] != df_filtered['DOLocationID']))]\n",
    "\n",
    "# 3. Remove entries where trip_distance is more than 250 miles\n",
    "df_filtered = df_filtered[df_filtered['trip_distance'] <= 250]\n",
    "\n",
    "# 4. Remove entries where payment_type is 0 (invalid payment type)\n",
    "df_filtered = df_filtered[df_filtered['payment_type'] != 0]\n",
    "\n",
    "# Confirm that the changes were applied successfully\n",
    "print(f\"Remaining rows after outlier handling: {df_filtered.shape[0]}\")\n",
    "\n"
   ]
  },
  {
   "cell_type": "code",
   "execution_count": 117,
   "metadata": {
    "id": "PuzQXfuT8YKV"
   },
   "outputs": [
    {
     "name": "stdout",
     "output_type": "stream",
     "text": [
      "       VendorID tpep_pickup_datetime tpep_dropoff_datetime  passenger_count  \\\n",
      "count       0.0                    0                     0              0.0   \n",
      "mean        NaN                  NaT                   NaT              NaN   \n",
      "min         NaN                  NaT                   NaT              NaN   \n",
      "25%         NaN                  NaT                   NaT              NaN   \n",
      "50%         NaN                  NaT                   NaT              NaN   \n",
      "75%         NaN                  NaT                   NaT              NaN   \n",
      "max         NaN                  NaT                   NaT              NaN   \n",
      "std         NaN                  NaN                   NaN              NaN   \n",
      "\n",
      "       trip_distance  RatecodeID  PULocationID  DOLocationID  payment_type  \\\n",
      "count            0.0         0.0           0.0           0.0           0.0   \n",
      "mean             NaN         NaN           NaN           NaN           NaN   \n",
      "min              NaN         NaN           NaN           NaN           NaN   \n",
      "25%              NaN         NaN           NaN           NaN           NaN   \n",
      "50%              NaN         NaN           NaN           NaN           NaN   \n",
      "75%              NaN         NaN           NaN           NaN           NaN   \n",
      "max              NaN         NaN           NaN           NaN           NaN   \n",
      "std              NaN         NaN           NaN           NaN           NaN   \n",
      "\n",
      "       fare_amount  ...  improvement_surcharge  total_amount  \\\n",
      "count          0.0  ...                    0.0           0.0   \n",
      "mean           NaN  ...                    NaN           NaN   \n",
      "min            NaN  ...                    NaN           NaN   \n",
      "25%            NaN  ...                    NaN           NaN   \n",
      "50%            NaN  ...                    NaN           NaN   \n",
      "75%            NaN  ...                    NaN           NaN   \n",
      "max            NaN  ...                    NaN           NaN   \n",
      "std            NaN  ...                    NaN           NaN   \n",
      "\n",
      "       congestion_surcharge  airport_fee_combined  pickup_hour  airport_fee  \\\n",
      "count                   0.0                   0.0          0.0          0.0   \n",
      "mean                    NaN                   NaN          NaN          NaN   \n",
      "min                     NaN                   NaN          NaN          NaN   \n",
      "25%                     NaN                   NaN          NaN          NaN   \n",
      "50%                     NaN                   NaN          NaN          NaN   \n",
      "75%                     NaN                   NaN          NaN          NaN   \n",
      "max                     NaN                   NaN          NaN          NaN   \n",
      "std                     NaN                   NaN          NaN          NaN   \n",
      "\n",
      "       Unnamed: 0  tpep_pickup_date  tpep_pickup_time  pickup_datetime  \n",
      "count         0.0               0.0               0.0              0.0  \n",
      "mean          NaN               NaN               NaN              NaN  \n",
      "min           NaN               NaN               NaN              NaN  \n",
      "25%           NaN               NaN               NaN              NaN  \n",
      "50%           NaN               NaN               NaN              NaN  \n",
      "75%           NaN               NaN               NaN              NaN  \n",
      "max           NaN               NaN               NaN              NaN  \n",
      "std           NaN               NaN               NaN              NaN  \n",
      "\n",
      "[8 rows x 22 columns]\n",
      "Empty DataFrame\n",
      "Columns: [trip_distance, fare_amount, total_amount, passenger_count, congestion_surcharge, airport_fee_combined]\n",
      "Index: []\n"
     ]
    }
   ],
   "source": [
    "# Do any columns need standardising?\n",
    "\n",
    "# Get a summary of the numeric columns\n",
    "summary = df_filtered.describe()\n",
    "\n",
    "# Check columns with wide range of values and large standard deviations\n",
    "print(summary)\n",
    "\n",
    "# Additional check: Check if values are in different units (and could benefit from scaling)\n",
    "columns_to_standardize = ['trip_distance', 'fare_amount', 'total_amount', 'passenger_count', 'congestion_surcharge', 'airport_fee_combined']\n",
    "\n",
    "# Check the scale of those columns\n",
    "print(df_filtered[columns_to_standardize].head())"
   ]
  },
  {
   "cell_type": "markdown",
   "metadata": {
    "id": "gPpJyFFNffcL"
   },
   "source": [
    "## **3** Exploratory Data Analysis\n",
    "<font color = red>[90 marks]</font> <br>"
   ]
  },
  {
   "cell_type": "code",
   "execution_count": 119,
   "metadata": {
    "id": "cl-0PcYTfkqh"
   },
   "outputs": [
    {
     "data": {
      "text/plain": [
       "['VendorID',\n",
       " 'tpep_pickup_datetime',\n",
       " 'tpep_dropoff_datetime',\n",
       " 'passenger_count',\n",
       " 'trip_distance',\n",
       " 'RatecodeID',\n",
       " 'store_and_fwd_flag',\n",
       " 'PULocationID',\n",
       " 'DOLocationID',\n",
       " 'payment_type',\n",
       " 'fare_amount',\n",
       " 'extra',\n",
       " 'mta_tax',\n",
       " 'tip_amount',\n",
       " 'tolls_amount',\n",
       " 'improvement_surcharge',\n",
       " 'total_amount',\n",
       " 'congestion_surcharge',\n",
       " 'Airport_fee',\n",
       " 'pickup_date',\n",
       " 'pickup_hour',\n",
       " 'airport_fee',\n",
       " 'Unnamed: 0',\n",
       " 'tpep_pickup_date',\n",
       " 'tpep_pickup_time',\n",
       " 'pickup_datetime']"
      ]
     },
     "execution_count": 119,
     "metadata": {},
     "output_type": "execute_result"
    }
   ],
   "source": [
    "df.columns.tolist()"
   ]
  },
  {
   "cell_type": "markdown",
   "metadata": {
    "id": "a4N3PvkSTwcN"
   },
   "source": [
    "#### **3.1** General EDA: Finding Patterns and Trends\n",
    "<font color = red>[40 marks]</font> <br>"
   ]
  },
  {
   "cell_type": "markdown",
   "metadata": {
    "id": "9hwonDfZTJO6"
   },
   "source": [
    "**3.1.1** <font color = red>[3 marks]</font> <br>\n",
    "Categorise the varaibles into Numerical or Categorical.\n",
    "* `VendorID`:\n",
    "* `tpep_pickup_datetime`:\n",
    "* `tpep_dropoff_datetime`:\n",
    "* `passenger_count`:\n",
    "* `trip_distance`:\n",
    "* `RatecodeID`:\n",
    "* `PULocationID`:\n",
    "* `DOLocationID`:\n",
    "* `payment_type`:\n",
    "* `pickup_hour`:\n",
    "* `trip_duration`:\n",
    "\n",
    "\n",
    "The following monetary parameters belong in the same category, is it categorical or numerical?\n",
    "\n",
    "\n",
    "* `fare_amount`\n",
    "* `extra`\n",
    "* `mta_tax`\n",
    "* `tip_amount`\n",
    "* `tolls_amount`\n",
    "* `improvement_surcharge`\n",
    "* `total_amount`\n",
    "* `congestion_surcharge`\n",
    "* `airport_fee`"
   ]
  },
  {
   "cell_type": "markdown",
   "metadata": {
    "id": "MbGMjArkiXjL"
   },
   "source": [
    "##### Temporal Analysis"
   ]
  },
  {
   "cell_type": "markdown",
   "metadata": {
    "id": "ZCCbmQ49s2qj"
   },
   "source": [
    "**3.1.2** <font color = red>[5 marks]</font> <br>\n",
    "Analyse the distribution of taxi pickups by hours, days of the week, and months."
   ]
  },
  {
   "cell_type": "code",
   "execution_count": 121,
   "metadata": {
    "id": "RwgWN_MWg0Au"
   },
   "outputs": [
    {
     "data": {
      "image/png": "[encoded data removed]",
      "text/plain": [
       "<Figure size 1000x500 with 1 Axes>"
      ]
     },
     "metadata": {},
     "output_type": "display_data"
    }
   ],
   "source": [
    "# Find and show the hourly trends in taxi pickups\n",
    "\n",
    "import pandas as pd\n",
    "import matplotlib.pyplot as plt\n",
    "import seaborn as sns\n",
    "\n",
    "# Assuming df is your DataFrame\n",
    "df['tpep_pickup_datetime'] = pd.to_datetime(df['tpep_pickup_datetime'], errors='coerce')\n",
    "\n",
    "# Extract the pickup hour\n",
    "df['pickup_hour'] = df['tpep_pickup_datetime'].dt.hour\n",
    "\n",
    "# Group by hour and count pickups\n",
    "hourly_pickups = df['pickup_hour'].value_counts().sort_index()\n",
    "\n",
    "# Plot\n",
    "plt.figure(figsize=(10, 5))\n",
    "sns.lineplot(x=hourly_pickups.index, y=hourly_pickups.values, marker='o')\n",
    "plt.title('Hourly Taxi Pickup Trends')\n",
    "plt.xlabel('Hour of Day (0–23)')\n",
    "plt.ylabel('Number of Pickups')\n",
    "plt.xticks(range(0, 24))\n",
    "plt.grid(True)\n",
    "plt.tight_layout()\n",
    "plt.show()"
   ]
  },
  {
   "cell_type": "code",
   "execution_count": 123,
   "metadata": {
    "id": "R64b8zfkG5OK"
   },
   "outputs": [
    {
     "name": "stderr",
     "output_type": "stream",
     "text": [
      "/var/folders/jf/38g39c_d7mxdml0qg4c87l540000gn/T/ipykernel_2293/1190587501.py:23: FutureWarning: \n",
      "\n",
      "Passing `palette` without assigning `hue` is deprecated and will be removed in v0.14.0. Assign the `x` variable to `hue` and set `legend=False` for the same effect.\n",
      "\n",
      "  sns.barplot(x=daily_pickups.index, y=daily_pickups.values, palette='viridis')\n"
     ]
    },
    {
     "data": {
      "image/png": "[encoded data removed]",
      "text/plain": [
       "<Figure size 1000x500 with 1 Axes>"
      ]
     },
     "metadata": {},
     "output_type": "display_data"
    }
   ],
   "source": [
    "# Find and show the daily trends in taxi pickups (days of the week)\n",
    "\n",
    "# Convert to datetime if not already done\n",
    "df['tpep_pickup_datetime'] = pd.to_datetime(df['tpep_pickup_datetime'], errors='coerce')\n",
    "\n",
    "# Extract the day of the week (0=Monday, 6=Sunday)\n",
    "df['pickup_day'] = df['tpep_pickup_datetime'].dt.dayofweek\n",
    "\n",
    "# Map numeric days to weekday names\n",
    "day_map = {\n",
    "    0: 'Monday', 1: 'Tuesday', 2: 'Wednesday', 3: 'Thursday',\n",
    "    4: 'Friday', 5: 'Saturday', 6: 'Sunday'\n",
    "}\n",
    "df['pickup_day_name'] = df['pickup_day'].map(day_map)\n",
    "\n",
    "# Count pickups per day\n",
    "daily_pickups = df['pickup_day_name'].value_counts().reindex(\n",
    "    ['Monday', 'Tuesday', 'Wednesday', 'Thursday', 'Friday', 'Saturday', 'Sunday']\n",
    ")\n",
    "\n",
    "# Plotting\n",
    "plt.figure(figsize=(10, 5))\n",
    "sns.barplot(x=daily_pickups.index, y=daily_pickups.values, palette='viridis')\n",
    "plt.title('Daily Taxi Pickup Trends (by Day of Week)')\n",
    "plt.xlabel('Day of the Week')\n",
    "plt.ylabel('Number of Pickups')\n",
    "plt.xticks(rotation=45)\n",
    "plt.grid(axis='y')\n",
    "plt.tight_layout()\n",
    "plt.show()"
   ]
  },
  {
   "cell_type": "code",
   "execution_count": 125,
   "metadata": {
    "id": "H7V-jmRQG5hJ"
   },
   "outputs": [
    {
     "data": {
      "image/png": "[encoded data removed]",
      "text/plain": [
       "<Figure size 1200x500 with 1 Axes>"
      ]
     },
     "metadata": {},
     "output_type": "display_data"
    }
   ],
   "source": [
    "# Show the monthly trends in pickups\n",
    "\n",
    "# Convert to datetime if not already done\n",
    "df['tpep_pickup_datetime'] = pd.to_datetime(df['tpep_pickup_datetime'], errors='coerce')\n",
    "\n",
    "# Extract the month and year (useful if data spans multiple years)\n",
    "df['pickup_month'] = df['tpep_pickup_datetime'].dt.to_period('M')\n",
    "\n",
    "# Count pickups per month\n",
    "monthly_pickups = df['pickup_month'].value_counts().sort_index()\n",
    "\n",
    "# Plot\n",
    "plt.figure(figsize=(12, 5))\n",
    "sns.lineplot(x=monthly_pickups.index.astype(str), y=monthly_pickups.values, marker='o', linewidth=2)\n",
    "plt.title('Monthly Taxi Pickup Trends')\n",
    "plt.xlabel('Month')\n",
    "plt.ylabel('Number of Pickups')\n",
    "plt.xticks(rotation=45)\n",
    "plt.grid(True)\n",
    "plt.tight_layout()\n",
    "plt.show()\n"
   ]
  },
  {
   "cell_type": "markdown",
   "metadata": {
    "id": "23IqsgNjHNpJ"
   },
   "source": [
    "##### Financial Analysis"
   ]
  },
  {
   "cell_type": "markdown",
   "metadata": {
    "id": "fRaO-3NqHSM6"
   },
   "source": [
    "Take a look at the financial parameters like `fare_amount`, `tip_amount`, `total_amount`, and also `trip_distance`. Do these contain zero/negative values?"
   ]
  },
  {
   "cell_type": "code",
   "execution_count": 129,
   "metadata": {
    "id": "Z7JUnPeRHRqF"
   },
   "outputs": [
    {
     "name": "stdout",
     "output_type": "stream",
     "text": [
      "\n",
      "Column: fare_amount\n",
      "Zero values: 238 (0.05%)\n",
      "Negative values: 10561 (2.03%)\n",
      "\n",
      "Column: tip_amount\n",
      "Zero values: 134244 (25.81%)\n",
      "Negative values: 50 (0.01%)\n",
      "\n",
      "Column: total_amount\n",
      "Zero values: 121 (0.02%)\n",
      "Negative values: 6287 (1.21%)\n",
      "\n",
      "Column: trip_distance\n",
      "Zero values: 9926 (1.91%)\n",
      "Negative values: 0 (0.00%)\n"
     ]
    }
   ],
   "source": [
    "# Analyse the above parameters\n",
    "# List of columns to check\n",
    "columns_to_check = ['fare_amount', 'tip_amount', 'total_amount', 'trip_distance']\n",
    "\n",
    "# Check for zero or negative values\n",
    "for col in columns_to_check:\n",
    "    zero_count = (df[col] == 0).sum()\n",
    "    negative_count = (df[col] < 0).sum()\n",
    "    total_rows = df.shape[0]\n",
    "    \n",
    "    print(f\"\\nColumn: {col}\")\n",
    "    print(f\"Zero values: {zero_count} ({(zero_count/total_rows)*100:.2f}%)\")\n",
    "    print(f\"Negative values: {negative_count} ({(negative_count/total_rows)*100:.2f}%)\")\n",
    "\n"
   ]
  },
  {
   "cell_type": "markdown",
   "metadata": {
    "id": "dbOS_-GDJTyv"
   },
   "source": [
    "Do you think it is beneficial to create a copy DataFrame leaving out the zero values from these?"
   ]
  },
  {
   "cell_type": "markdown",
   "metadata": {
    "id": "YDN14J63o9gV"
   },
   "source": [
    "**3.1.3** <font color = red>[2 marks]</font> <br>\n",
    "Filter out the zero values from the above columns.\n",
    "\n",
    "**Note:** The distance might be 0 in cases where pickup and drop is in the same zone. Do you think it is suitable to drop such cases of zero distance?"
   ]
  },
  {
   "cell_type": "code",
   "execution_count": 131,
   "metadata": {
    "id": "5mk7Yp41JqJd"
   },
   "outputs": [
    {
     "name": "stdout",
     "output_type": "stream",
     "text": [
      "Original dataset: 520026 rows\n",
      "Non-zero filtered dataset: 383279 rows\n",
      "Data retained: 73.70%\n"
     ]
    }
   ],
   "source": [
    "# Create a df with non zero entries for the selected parameters.\n",
    "\n",
    "# Create a DataFrame with non-zero entries for the selected parameters\n",
    "df_non_zero = df[\n",
    "    (df['fare_amount'] != 0) &\n",
    "    (df['tip_amount'] != 0) &\n",
    "    (df['total_amount'] != 0) &\n",
    "    (df['trip_distance'] != 0)\n",
    "].copy()\n",
    "\n",
    "# Check the result\n",
    "print(f\"Original dataset: {len(df)} rows\")\n",
    "print(f\"Non-zero filtered dataset: {len(df_non_zero)} rows\")\n",
    "print(f\"Data retained: {(len(df_non_zero)/len(df))*100:.2f}%\")"
   ]
  },
  {
   "cell_type": "markdown",
   "metadata": {
    "id": "kJcgwyrtKivH"
   },
   "source": [
    "**3.1.4** <font color = red>[3 marks]</font> <br>\n",
    "Analyse the monthly revenue (`total_amount`) trend"
   ]
  },
  {
   "cell_type": "code",
   "execution_count": 143,
   "metadata": {
    "id": "U_gl8rBD6ZH0"
   },
   "outputs": [
    {
     "data": {
      "image/png": "[encoded data removed]",
      "text/plain": [
       "<Figure size 1200x600 with 1 Axes>"
      ]
     },
     "metadata": {},
     "output_type": "display_data"
    }
   ],
   "source": [
    "import pandas as pd\n",
    "import matplotlib.pyplot as plt\n",
    "import seaborn as sns\n",
    "\n",
    "# Ensure 'tpep_pickup_datetime' is in datetime format\n",
    "df['tpep_pickup_datetime'] = pd.to_datetime(df['tpep_pickup_datetime'], errors='coerce')\n",
    "\n",
    "# Extract the month and year from the pickup datetime\n",
    "df['pickup_month'] = df['tpep_pickup_datetime'].dt.to_period('M')\n",
    "\n",
    "# Group by month-year and sum the total_amount for each period\n",
    "monthly_revenue = df.groupby('pickup_month')['total_amount'].sum()\n",
    "\n",
    "# Plot the monthly revenue trend\n",
    "plt.figure(figsize=(12, 6))\n",
    "sns.lineplot(x=monthly_revenue.index.astype(str), y=monthly_revenue.values, marker='o', linewidth=2)\n",
    "plt.title('Monthly Revenue Trend (Total Amount)', fontsize=14)\n",
    "plt.xlabel('Month-Year', fontsize=12)\n",
    "plt.ylabel('Total Revenue ($)', fontsize=12)\n",
    "plt.xticks(rotation=45)\n",
    "plt.grid(True)\n",
    "plt.tight_layout()\n",
    "plt.show()"
   ]
  },
  {
   "cell_type": "markdown",
   "metadata": {
    "id": "3vQHosTZLalB"
   },
   "source": [
    "**3.1.5** <font color = red>[3 marks]</font> <br>\n",
    "Show the proportion of each quarter of the year in the revenue"
   ]
  },
  {
   "cell_type": "code",
   "execution_count": 145,
   "metadata": {
    "id": "foV9BpFbVTbu"
   },
   "outputs": [
    {
     "name": "stdout",
     "output_type": "stream",
     "text": [
      "pickup_quarter\n",
      "2022Q4     0.000098\n",
      "2023Q1    64.642771\n",
      "2024Q4     0.000505\n",
      "2025Q1    35.356625\n",
      "Freq: Q-DEC, Name: total_amount, dtype: float64\n"
     ]
    }
   ],
   "source": [
    "# Extract the quarter from the pickup datetime\n",
    "df['pickup_quarter'] = df['tpep_pickup_datetime'].dt.to_period('Q')\n",
    "\n",
    "# Group by quarter and sum the total_amount for each period\n",
    "quarterly_revenue = df.groupby('pickup_quarter')['total_amount'].sum()\n",
    "\n",
    "# Calculate the total revenue\n",
    "total_revenue = quarterly_revenue.sum()\n",
    "\n",
    "# Calculate the proportion of each quarter\n",
    "quarterly_proportion = (quarterly_revenue / total_revenue) * 100\n",
    "\n",
    "# Display the proportions\n",
    "print(quarterly_proportion)"
   ]
  },
  {
   "cell_type": "markdown",
   "metadata": {
    "id": "JncXEPjBLyHp"
   },
   "source": [
    "**3.1.6** <font color = red>[3 marks]</font> <br>\n",
    "Visualise the relationship between `trip_distance` and `fare_amount`. Also find the correlation value for these two.\n",
    "\n",
    "**Hint:** You can leave out the trips with trip_distance = 0"
   ]
  },
  {
   "cell_type": "code",
   "execution_count": 149,
   "metadata": {
    "id": "-z8Fegh_P5At"
   },
   "outputs": [
    {
     "data": {
      "image/png": "[encoded data removed]",
      "text/plain": [
       "<Figure size 1000x600 with 1 Axes>"
      ]
     },
     "metadata": {},
     "output_type": "display_data"
    },
    {
     "name": "stdout",
     "output_type": "stream",
     "text": [
      "Correlation between trip fare and distance: 0.01\n"
     ]
    },
    {
     "data": {
      "image/png": "[encoded data removed]",
      "text/plain": [
       "<Figure size 1000x600 with 1 Axes>"
      ]
     },
     "metadata": {},
     "output_type": "display_data"
    },
    {
     "name": "stdout",
     "output_type": "stream",
     "text": [
      "Linear Regression Equation: Fare = 17.74 + 0.00 * Distance\n"
     ]
    }
   ],
   "source": [
    "# Show how trip fare is affected by distance\n",
    "\n",
    "import seaborn as sns\n",
    "import matplotlib.pyplot as plt\n",
    "\n",
    "# Plot the scatter plot between fare_amount and trip_distance\n",
    "plt.figure(figsize=(10, 6))\n",
    "sns.scatterplot(data=df, x='trip_distance', y='fare_amount', alpha=0.6, color='blue')\n",
    "plt.title('Trip Fare vs Distance', fontsize=14)\n",
    "plt.xlabel('Trip Distance (miles)', fontsize=12)\n",
    "plt.ylabel('Fare Amount ($)', fontsize=12)\n",
    "plt.grid(True)\n",
    "plt.tight_layout()\n",
    "plt.show()\n",
    "\n",
    "# Calculate the correlation coefficient between trip_distance and fare_amount\n",
    "correlation = df['trip_distance'].corr(df['fare_amount'])\n",
    "print(f\"Correlation between trip fare and distance: {correlation:.2f}\")\n",
    "\n",
    "from sklearn.linear_model import LinearRegression\n",
    "import numpy as np\n",
    "\n",
    "# Prepare the data\n",
    "X = df[['trip_distance']]  # Independent variable\n",
    "y = df['fare_amount']      # Dependent variable\n",
    "\n",
    "# Fit the linear regression model\n",
    "model = LinearRegression()\n",
    "model.fit(X, y)\n",
    "\n",
    "# Plot the scatter plot and the regression line\n",
    "plt.figure(figsize=(10, 6))\n",
    "sns.scatterplot(data=df, x='trip_distance', y='fare_amount', alpha=0.6, color='blue')\n",
    "plt.plot(df['trip_distance'], model.predict(X), color='red', linewidth=2, label='Regression Line')\n",
    "plt.title('Trip Fare vs Distance with Regression Line', fontsize=14)\n",
    "plt.xlabel('Trip Distance (miles)', fontsize=12)\n",
    "plt.ylabel('Fare Amount ($)', fontsize=12)\n",
    "plt.legend()\n",
    "plt.grid(True)\n",
    "plt.tight_layout()\n",
    "plt.show()\n",
    "\n",
    "# Print the regression parameters\n",
    "print(f\"Linear Regression Equation: Fare = {model.intercept_:.2f} + {model.coef_[0]:.2f} * Distance\")"
   ]
  },
  {
   "cell_type": "markdown",
   "metadata": {
    "id": "-OGNFTX4QdeS"
   },
   "source": [
    "**3.1.7** <font color = red>[5 marks]</font> <br>\n",
    "Find and visualise the correlation between:\n",
    "1. `fare_amount` and trip duration (pickup time to dropoff time)\n",
    "2. `fare_amount` and `passenger_count`\n",
    "3. `tip_amount` and `trip_distance`"
   ]
  },
  {
   "cell_type": "code",
   "execution_count": 153,
   "metadata": {
    "id": "EtSNqFw19TB3"
   },
   "outputs": [
    {
     "data": {
      "image/png": "[encoded data removed]",
      "text/plain": [
       "<Figure size 1000x600 with 1 Axes>"
      ]
     },
     "metadata": {},
     "output_type": "display_data"
    },
    {
     "name": "stdout",
     "output_type": "stream",
     "text": [
      "Correlation between trip fare and duration: 0.23\n"
     ]
    }
   ],
   "source": [
    "# Ensure 'tpep_pickup_datetime' and 'tpep_dropoff_datetime' are in datetime format\n",
    "df['tpep_pickup_datetime'] = pd.to_datetime(df['tpep_pickup_datetime'], errors='coerce')\n",
    "df['tpep_dropoff_datetime'] = pd.to_datetime(df['tpep_dropoff_datetime'], errors='coerce')\n",
    "\n",
    "# Calculate the trip duration in seconds\n",
    "df['trip_duration'] = (df['tpep_dropoff_datetime'] - df['tpep_pickup_datetime']).dt.total_seconds()\n",
    "\n",
    "# Check the first few rows to verify the new column\n",
    "df[['tpep_pickup_datetime', 'tpep_dropoff_datetime', 'trip_duration']].head()\n",
    "\n",
    "# Plot the scatter plot between fare_amount and trip_duration\n",
    "plt.figure(figsize=(10, 6))\n",
    "sns.scatterplot(data=df, x='trip_duration', y='fare_amount', alpha=0.6, color='purple')\n",
    "plt.title('Trip Fare vs Duration', fontsize=14)\n",
    "plt.xlabel('Trip Duration (seconds)', fontsize=12)\n",
    "plt.ylabel('Fare Amount ($)', fontsize=12)\n",
    "plt.grid(True)\n",
    "plt.tight_layout()\n",
    "plt.show()\n",
    "\n",
    "# Calculate the correlation coefficient between trip_duration and fare_amount\n",
    "correlation_duration_fare = df['trip_duration'].corr(df['fare_amount'])\n",
    "print(f\"Correlation between trip fare and duration: {correlation_duration_fare:.2f}\")"
   ]
  },
  {
   "cell_type": "code",
   "execution_count": 155,
   "metadata": {
    "id": "oTrlXiBm9TB3"
   },
   "outputs": [
    {
     "data": {
      "image/png": "[encoded data removed]",
      "text/plain": [
       "<Figure size 1000x600 with 1 Axes>"
      ]
     },
     "metadata": {},
     "output_type": "display_data"
    },
    {
     "name": "stdout",
     "output_type": "stream",
     "text": [
      "Correlation between trip fare and number of passengers: 0.04\n",
      "passenger_count\n",
      "0.0    16.243942\n",
      "1.0    17.420728\n",
      "2.0    19.820044\n",
      "3.0    19.214299\n",
      "4.0    21.048409\n",
      "5.0    18.021413\n",
      "6.0    17.558894\n",
      "7.0    70.000000\n",
      "8.0    80.000000\n",
      "9.0    90.000000\n",
      "Name: fare_amount, dtype: float64\n"
     ]
    }
   ],
   "source": [
    "# Show relationship between fare and number of passengers\n",
    "\n",
    "# Plot the scatter plot between fare_amount and passenger_count\n",
    "plt.figure(figsize=(10, 6))\n",
    "sns.scatterplot(data=df, x='passenger_count', y='fare_amount', alpha=0.6, color='orange')\n",
    "plt.title('Trip Fare vs Number of Passengers', fontsize=14)\n",
    "plt.xlabel('Number of Passengers', fontsize=12)\n",
    "plt.ylabel('Fare Amount ($)', fontsize=12)\n",
    "plt.grid(True)\n",
    "plt.tight_layout()\n",
    "plt.show()\n",
    "\n",
    "# Calculate the correlation coefficient between passenger_count and fare_amount\n",
    "correlation_passenger_fare = df['passenger_count'].corr(df['fare_amount'])\n",
    "print(f\"Correlation between trip fare and number of passengers: {correlation_passenger_fare:.2f}\")\n",
    "\n",
    "# Calculate the average fare for each number of passengers\n",
    "average_fare_by_passenger = df.groupby('passenger_count')['fare_amount'].mean()\n",
    "\n",
    "# Display the result\n",
    "print(average_fare_by_passenger)"
   ]
  },
  {
   "cell_type": "code",
   "execution_count": null,
   "metadata": {
    "id": "Lph7rakc9TB3"
   },
   "outputs": [],
   "source": [
    "# Show relationship between tip and trip distance\n",
    "\n"
   ]
  },
  {
   "cell_type": "markdown",
   "metadata": {
    "id": "3EL5CU47QJ5u"
   },
   "source": [
    "**3.1.8** <font color = red>[3 marks]</font> <br>\n",
    "Analyse the distribution of different payment types (`payment_type`)"
   ]
  },
  {
   "cell_type": "code",
   "execution_count": null,
   "metadata": {
    "id": "pknOiYLp9Wnd"
   },
   "outputs": [],
   "source": [
    "# Analyse the distribution of different payment types (payment_type).\n",
    "\n",
    "\n"
   ]
  },
  {
   "cell_type": "markdown",
   "metadata": {
    "id": "PxxbUmSZ9Wne"
   },
   "source": [
    "- 1= Credit card\n",
    "- 2= Cash\n",
    "- 3= No charge\n",
    "- 4= Dispute\n",
    "\n"
   ]
  },
  {
   "cell_type": "markdown",
   "metadata": {
    "id": "CVXxcSYHj9sh"
   },
   "source": [
    "##### Geographical Analysis"
   ]
  },
  {
   "cell_type": "markdown",
   "metadata": {
    "id": "tvBXuYW7kEyS"
   },
   "source": [
    "For this, you have to use the *taxi_zones.shp* file from the *taxi_zones* folder.\n",
    "\n",
    "There would be multiple files inside the folder (such as *.shx, .sbx, .sbn* etc). You do not need to import/read any of the files other than the shapefile, *taxi_zones.shp*.\n",
    "\n",
    "Do not change any folder structure - all the files need to be present inside the folder for it to work.\n",
    "\n",
    "The folder structure should look like this:\n",
    "```\n",
    "Taxi Zones\n",
    "|- taxi_zones.shp.xml\n",
    "|- taxi_zones.prj\n",
    "|- taxi_zones.sbn\n",
    "|- taxi_zones.shp\n",
    "|- taxi_zones.dbf\n",
    "|- taxi_zones.shx\n",
    "|- taxi_zones.sbx\n",
    "\n",
    " ```\n",
    "\n",
    " You only need to read the `taxi_zones.shp` file. The *shp* file will utilise the other files by itself."
   ]
  },
  {
   "cell_type": "markdown",
   "metadata": {
    "id": "hR8f8ypXUtxJ"
   },
   "source": [
    "We will use the *GeoPandas* library for geopgraphical analysis\n",
    "```\n",
    "import geopandas as gpd\n",
    "```\n",
    "\n",
    "More about geopandas and shapefiles: [About](https://geopandas.org/en/stable/about.html)\n",
    "\n",
    "\n",
    "Reading the shapefile is very similar to *Pandas*. Use `gpd.read_file()` function to load the data (*taxi_zones.shp*) as a GeoDataFrame. Documentation: [Reading and Writing Files](https://geopandas.org/en/stable/docs/user_guide/io.html)"
   ]
  },
  {
   "cell_type": "code",
   "execution_count": null,
   "metadata": {
    "id": "FJ76QD9IXNz8"
   },
   "outputs": [],
   "source": [
    "# !pip install geopandas"
   ]
  },
  {
   "cell_type": "markdown",
   "metadata": {
    "id": "q_QpZLl_WU-b"
   },
   "source": [
    "**3.1.9** <font color = red>[2 marks]</font> <br>\n",
    "Load the shapefile and display it."
   ]
  },
  {
   "cell_type": "code",
   "execution_count": null,
   "metadata": {
    "id": "hLyVd3TQkCdG"
   },
   "outputs": [],
   "source": [
    "# import geopandas as gpd\n",
    "\n",
    "\n",
    "# Read the shapefile using geopandas\n",
    "zones = # read the .shp file using gpd\n",
    "zones.head()"
   ]
  },
  {
   "cell_type": "markdown",
   "metadata": {
    "id": "8YXJMzRoWxeg"
   },
   "source": [
    "Now, if you look at the DataFrame created, you will see columns like: `OBJECTID`,`Shape_Leng`, `Shape_Area`, `zone`, `LocationID`, `borough`, `geometry`.\n",
    "<br><br>\n",
    "\n",
    "Now, the `locationID` here is also what we are using to mark pickup and drop zones in the trip records.\n",
    "\n",
    "The geometric parameters like shape length, shape area and geometry are used to plot the zones on a map.\n",
    "\n",
    "This can be easily done using the `plot()` method."
   ]
  },
  {
   "cell_type": "code",
   "execution_count": null,
   "metadata": {
    "id": "lTqdZChLYE6H"
   },
   "outputs": [],
   "source": [
    "# print(zones.info())\n",
    "# zones.plot()"
   ]
  },
  {
   "cell_type": "markdown",
   "metadata": {
    "id": "fBkWokLIY_BH"
   },
   "source": [
    "Now, you have to merge the trip records and zones data using the location IDs.\n",
    "\n"
   ]
  },
  {
   "cell_type": "markdown",
   "metadata": {
    "id": "YzUMLUjqaJLN"
   },
   "source": [
    "**3.1.10** <font color = red>[3 marks]</font> <br>\n",
    "Merge the zones data into trip data using the `locationID` and `PULocationID` columns."
   ]
  },
  {
   "cell_type": "code",
   "execution_count": null,
   "metadata": {
    "id": "A2L8hWMQaYkX"
   },
   "outputs": [],
   "source": [
    "# Merge zones and trip records using locationID and PULocationID\n",
    "\n"
   ]
  },
  {
   "cell_type": "markdown",
   "metadata": {
    "id": "9CYc36Weai5-"
   },
   "source": [
    "**3.1.11** <font color = red>[3 marks]</font> <br>\n",
    "Group data by location IDs to find the total number of trips per location ID"
   ]
  },
  {
   "cell_type": "code",
   "execution_count": null,
   "metadata": {
    "id": "XpTIaPSSbwZZ"
   },
   "outputs": [],
   "source": [
    "# Group data by location and calculate the number of trips\n",
    "\n"
   ]
  },
  {
   "cell_type": "markdown",
   "metadata": {
    "id": "As0dVJpdcK2_"
   },
   "source": [
    "**3.1.12** <font color = red>[2 marks]</font> <br>\n",
    "Now, use the grouped data to add number of trips to the GeoDataFrame.\n",
    "\n",
    "We will use this to plot a map of zones showing total trips per zone."
   ]
  },
  {
   "cell_type": "code",
   "execution_count": null,
   "metadata": {
    "id": "H9Sheg7vdZ6q"
   },
   "outputs": [],
   "source": [
    "# Merge trip counts back to the zones GeoDataFrame\n",
    "\n",
    "\n"
   ]
  },
  {
   "cell_type": "markdown",
   "metadata": {
    "id": "DsfomL6Od0_R"
   },
   "source": [
    "The next step is creating a color map (choropleth map) showing zones by the number of trips taken.\n",
    "\n",
    "Again, you can use the `zones.plot()` method for this. [Plot Method GPD](https://geopandas.org/en/stable/docs/reference/api/geopandas.GeoDataFrame.plot.html#geopandas.GeoDataFrame.plot)\n",
    "\n",
    "But first, you need to define the figure and axis for the plot.\n",
    "\n",
    "`fig, ax = plt.subplots(1, 1, figsize = (12, 10))`\n",
    "\n",
    "This function creates a figure (fig) and a single subplot (ax)\n",
    "\n",
    "---"
   ]
  },
  {
   "cell_type": "markdown",
   "metadata": {
    "id": "QgDcw8gUejVk"
   },
   "source": [
    "After setting up the figure and axis, we can proceed to plot the GeoDataFrame on this axis. This is done in the next step where we use the plot method of the GeoDataFrame.\n",
    "\n",
    "You can define the following parameters in the `zones.plot()` method:\n",
    "```\n",
    "column = '',\n",
    "ax = ax,\n",
    "legend = True,\n",
    "legend_kwds = {'label': \"label\", 'orientation': \"<horizontal/vertical>\"}\n",
    "```\n",
    "\n",
    "To display the plot, use `plt.show()`."
   ]
  },
  {
   "cell_type": "markdown",
   "metadata": {
    "id": "xFQmkJipfU1P"
   },
   "source": [
    "**3.1.13** <font color = red>[3 marks]</font> <br>\n",
    "Plot a color-coded map showing zone-wise trips"
   ]
  },
  {
   "cell_type": "code",
   "execution_count": null,
   "metadata": {
    "id": "i506kVTgefM5"
   },
   "outputs": [],
   "source": [
    "# Define figure and axis\n",
    "\n",
    "\n",
    "# Plot the map and display it\n",
    "\n"
   ]
  },
  {
   "cell_type": "code",
   "execution_count": null,
   "metadata": {
    "id": "gwDs7OaBSopP"
   },
   "outputs": [],
   "source": [
    "# can you try displaying the zones DF sorted by the number of trips?\n",
    "\n"
   ]
  },
  {
   "cell_type": "markdown",
   "metadata": {
    "id": "T1bE7-QbgSrZ"
   },
   "source": [
    "Here we have completed the temporal, financial and geographical analysis on the trip records.\n",
    "\n",
    "**Compile your findings from general analysis below:**"
   ]
  },
  {
   "cell_type": "markdown",
   "metadata": {
    "id": "7YiVFIX3gcL3"
   },
   "source": [
    "You can consider the following points:\n",
    "\n",
    "* Busiest hours, days and months\n",
    "* Trends in revenue collected\n",
    "* Trends in quarterly revenue\n",
    "* How fare depends on trip distance, trip duration and passenger counts\n",
    "* How tip amount depends on trip distance\n",
    "* Busiest zones\n"
   ]
  },
  {
   "cell_type": "markdown",
   "metadata": {
    "id": "Rv0oYLcbhOTU"
   },
   "source": [
    "#### **3.2** Detailed EDA: Insights and Strategies\n",
    "<font color = red>[50 marks]</font> <br>"
   ]
  },
  {
   "cell_type": "markdown",
   "metadata": {
    "id": "xWJk-CGihnU1"
   },
   "source": [
    "Having performed basic analyses for finding trends and patterns, we will now move on to some detailed analysis focussed on operational efficiency, pricing strategies, and customer experience."
   ]
  },
  {
   "cell_type": "markdown",
   "metadata": {
    "id": "XBY2Y4Jrz9IQ"
   },
   "source": [
    "##### Operational Efficiency"
   ]
  },
  {
   "cell_type": "markdown",
   "metadata": {
    "id": "BXU8Q3sGjGnE"
   },
   "source": [
    "Analyze variations by time of day and location to identify bottlenecks or inefficiencies in routes"
   ]
  },
  {
   "cell_type": "markdown",
   "metadata": {
    "id": "H97VPqVdq7Lz"
   },
   "source": [
    "**3.2.1** <font color = red>[3 marks]</font> <br>\n",
    "Identify slow routes by calculating the average time taken by cabs to get from one zone to another at different hours of the day."
   ]
  },
  {
   "cell_type": "markdown",
   "metadata": {
    "id": "NzTRZyw2q9IR"
   },
   "source": [
    "Speed on a route *X* for hour *Y* = (*distance of the route X / average trip duration for hour Y*)"
   ]
  },
  {
   "cell_type": "code",
   "execution_count": null,
   "metadata": {
    "id": "Ovf-1vIyhk7E"
   },
   "outputs": [],
   "source": [
    "# Find routes which have the slowest speeds at different times of the day\n",
    "\n"
   ]
  },
  {
   "cell_type": "markdown",
   "metadata": {
    "id": "NmRPbH3rm2Ub"
   },
   "source": [
    "How does identifying high-traffic, high-demand routes help us?"
   ]
  },
  {
   "cell_type": "markdown",
   "metadata": {
    "id": "7-w-OCB_nLmb"
   },
   "source": [
    "**3.2.2** <font color = red>[3 marks]</font> <br>\n",
    "Calculate the number of trips at each hour of the day and visualise them. Find the busiest hour and show the number of trips for that hour."
   ]
  },
  {
   "cell_type": "code",
   "execution_count": null,
   "metadata": {
    "id": "BEbRCT31nLUw"
   },
   "outputs": [],
   "source": [
    "# Visualise the number of trips per hour and find the busiest hour\n",
    "\n"
   ]
  },
  {
   "cell_type": "markdown",
   "metadata": {
    "id": "8FuSAA0zn3F4"
   },
   "source": [
    "Remember, we took a fraction of trips. To find the actual number, you have to scale the number up by the sampling ratio."
   ]
  },
  {
   "cell_type": "markdown",
   "metadata": {
    "id": "bapn075QrKaz"
   },
   "source": [
    "**3.2.3** <font color = red>[2 mark]</font> <br>\n",
    "Find the actual number of trips in the five busiest hours"
   ]
  },
  {
   "cell_type": "code",
   "execution_count": null,
   "metadata": {
    "id": "79Hy-YWOoapQ"
   },
   "outputs": [],
   "source": [
    "# Scale up the number of trips\n",
    "\n",
    "# Fill in the value of your sampling fraction and use that to scale up the numbers\n",
    "sample_fraction =\n",
    "\n"
   ]
  },
  {
   "cell_type": "markdown",
   "metadata": {
    "id": "74fhoLxEoaTP"
   },
   "source": [
    "**3.2.4** <font color = red>[3 marks]</font> <br>\n",
    "Compare hourly traffic pattern on weekdays. Also compare for weekend."
   ]
  },
  {
   "cell_type": "code",
   "execution_count": null,
   "metadata": {
    "id": "sYMmCQHwpFRY"
   },
   "outputs": [],
   "source": [
    "# Compare traffic trends for the week days and weekends\n",
    "\n"
   ]
  },
  {
   "cell_type": "markdown",
   "metadata": {
    "id": "tWeuAulNpSOL"
   },
   "source": [
    "What can you infer from the above patterns? How will finding busy and quiet hours for each day help us?"
   ]
  },
  {
   "cell_type": "markdown",
   "metadata": {
    "id": "-S90VG94rGUm"
   },
   "source": [
    "**3.2.5** <font color = red>[3 marks]</font> <br>\n",
    "Identify top 10 zones with high hourly pickups. Do the same for hourly dropoffs. Show pickup and dropoff trends in these zones."
   ]
  },
  {
   "cell_type": "code",
   "execution_count": null,
   "metadata": {
    "id": "-nJGifJFrslP"
   },
   "outputs": [],
   "source": [
    "# Find top 10 pickup and dropoff zones\n",
    "\n"
   ]
  },
  {
   "cell_type": "markdown",
   "metadata": {
    "id": "okkQ17VssMqP"
   },
   "source": [
    "**3.2.6** <font color = red>[3 marks]</font> <br>\n",
    "Find the ratio of pickups and dropoffs in each zone. Display the 10 highest (pickup/drop) and 10 lowest (pickup/drop) ratios."
   ]
  },
  {
   "cell_type": "code",
   "execution_count": null,
   "metadata": {
    "id": "Qbuc8y-KgeDR"
   },
   "outputs": [],
   "source": [
    "# Find the top 10 and bottom 10 pickup/dropoff ratios\n",
    "\n"
   ]
  },
  {
   "cell_type": "markdown",
   "metadata": {
    "id": "2j1ukv-rrxny"
   },
   "source": [
    "**3.2.7** <font color = red>[3 marks]</font> <br>\n",
    "Identify zones with high pickup and dropoff traffic during night hours (11PM to 5AM)"
   ]
  },
  {
   "cell_type": "code",
   "execution_count": null,
   "metadata": {
    "id": "ve65f0GltyE_"
   },
   "outputs": [],
   "source": [
    "# During night hours (11pm to 5am) find the top 10 pickup and dropoff zones\n",
    "# Note that the top zones should be of night hours and not the overall top zones\n",
    "\n"
   ]
  },
  {
   "cell_type": "markdown",
   "metadata": {
    "id": "OtPTHyhTNnNL"
   },
   "source": [
    "Now, let us find the revenue share for the night time hours and the day time hours. After this, we will move to deciding a pricing strategy.\n",
    "\n",
    "**3.2.8** <font color = red>[2 marks]</font> <br>\n",
    "Find the revenue share for nighttime and daytime hours."
   ]
  },
  {
   "cell_type": "code",
   "execution_count": null,
   "metadata": {
    "id": "0ohk4curNl3g"
   },
   "outputs": [],
   "source": [
    "# Filter for night hours (11 PM to 5 AM)\n",
    "\n"
   ]
  },
  {
   "cell_type": "markdown",
   "metadata": {
    "id": "nG77smP4tyWu"
   },
   "source": [
    "##### Pricing Strategy"
   ]
  },
  {
   "cell_type": "markdown",
   "metadata": {
    "id": "ciF6eThit5IH"
   },
   "source": [
    "**3.2.9** <font color = red>[2 marks]</font> <br>\n",
    "For the different passenger counts, find the average fare per mile per passenger.\n",
    "\n",
    "For instance, suppose the average fare per mile for trips with 3 passengers is 3 USD/mile, then the fare per mile per passenger will be 1 USD/mile."
   ]
  },
  {
   "cell_type": "code",
   "execution_count": null,
   "metadata": {
    "id": "AO7MIuXd9C16"
   },
   "outputs": [],
   "source": [
    "# Analyse the fare per mile per passenger for different passenger counts\n",
    "\n",
    "\n"
   ]
  },
  {
   "cell_type": "markdown",
   "metadata": {
    "id": "WZrN-cxR9DIb"
   },
   "source": [
    "**3.2.10** <font color = red>[3 marks]</font> <br>\n",
    "Find the average fare per mile by hours of the day and by days of the week"
   ]
  },
  {
   "cell_type": "code",
   "execution_count": null,
   "metadata": {
    "id": "hUzCJm2y9SOq"
   },
   "outputs": [],
   "source": [
    "# Compare the average fare per mile for different days and for different times of the day\n",
    "\n"
   ]
  },
  {
   "cell_type": "markdown",
   "metadata": {
    "id": "211WFkhHDUMG"
   },
   "source": [
    "**3.2.11** <font color = red>[3 marks]</font> <br>\n",
    "Analyse the average fare per mile for the different vendors for different hours of the day"
   ]
  },
  {
   "cell_type": "code",
   "execution_count": null,
   "metadata": {
    "id": "my3cGHL1DU04"
   },
   "outputs": [],
   "source": [
    "# Compare fare per mile for different vendors\n",
    "\n"
   ]
  },
  {
   "cell_type": "markdown",
   "metadata": {
    "id": "FH9YJdodtDk4"
   },
   "source": [
    "**3.2.12** <font color = red>[5 marks]</font> <br>\n",
    "Compare the fare rates of the different vendors in a tiered fashion. Analyse the average fare per mile for distances upto 2 miles. Analyse the fare per mile for distances from 2 to 5 miles. And then for distances more than 5 miles.\n"
   ]
  },
  {
   "cell_type": "code",
   "execution_count": null,
   "metadata": {
    "id": "TFRPgO7mgEeT"
   },
   "outputs": [],
   "source": [
    "# Defining distance tiers\n",
    "\n"
   ]
  },
  {
   "cell_type": "markdown",
   "metadata": {
    "id": "M2o6xY0Yh6Gv"
   },
   "source": [
    "##### Customer Experience and Other Factors"
   ]
  },
  {
   "cell_type": "markdown",
   "metadata": {
    "id": "VSneN-rCh6Gw"
   },
   "source": [
    "**3.2.13** <font color = red>[5 marks]</font> <br>\n",
    "Analyse average tip percentages based on trip distances, passenger counts and time of pickup. What factors lead to low tip percentages?"
   ]
  },
  {
   "cell_type": "code",
   "execution_count": null,
   "metadata": {
    "id": "LO5WazK8h6Gx"
   },
   "outputs": [],
   "source": [
    "#  Analyze tip percentages based on distances, passenger counts and pickup times\n",
    "\n"
   ]
  },
  {
   "cell_type": "markdown",
   "metadata": {
    "id": "wQAIQsrcLm6X"
   },
   "source": [
    "Additional analysis [optional]: Let's try comparing cases of low tips with cases of high tips to find out if we find a clear aspect that drives up the tipping behaviours"
   ]
  },
  {
   "cell_type": "code",
   "execution_count": null,
   "metadata": {
    "collapsed": true,
    "id": "QYoUed6Dn6YW",
    "jupyter": {
     "outputs_hidden": true
    }
   },
   "outputs": [],
   "source": [
    "# Compare trips with tip percentage < 10% to trips with tip percentage > 25%\n",
    "\n"
   ]
  },
  {
   "cell_type": "markdown",
   "metadata": {
    "id": "0UjvGTRKh6Gx"
   },
   "source": [
    "**3.2.14** <font color = red>[3 marks]</font> <br>\n",
    "Analyse the variation of passenger count across hours and days of the week."
   ]
  },
  {
   "cell_type": "code",
   "execution_count": null,
   "metadata": {
    "id": "rFP0DNRvh6Gx"
   },
   "outputs": [],
   "source": [
    "# See how passenger count varies across hours and days\n",
    "\n",
    "\n"
   ]
  },
  {
   "cell_type": "markdown",
   "metadata": {
    "id": "zWKLLlb7h6Gy"
   },
   "source": [
    "**3.2.15** <font color = red>[2 marks]</font> <br>\n",
    "Analyse the variation of passenger counts across zones"
   ]
  },
  {
   "cell_type": "code",
   "execution_count": null,
   "metadata": {
    "id": "30h27Uz2h6Gy"
   },
   "outputs": [],
   "source": [
    "# How does passenger count vary across zones\n",
    "\n"
   ]
  },
  {
   "cell_type": "code",
   "execution_count": null,
   "metadata": {
    "id": "C3I0AfOkvBWA"
   },
   "outputs": [],
   "source": [
    "# For a more detailed analysis, we can use the zones_with_trips GeoDataFrame\n",
    "# Create a new column for the average passenger count in each zone.\n",
    "\n"
   ]
  },
  {
   "cell_type": "markdown",
   "metadata": {
    "id": "rw0j5Z-1h6Gz"
   },
   "source": [
    "Find out how often surcharges/extra charges are applied to understand their prevalance"
   ]
  },
  {
   "cell_type": "markdown",
   "metadata": {
    "id": "x9IHjHFBx6Ye"
   },
   "source": [
    "**3.2.16** <font color = red>[5 marks]</font> <br>\n",
    "Analyse the pickup/dropoff zones or times when extra charges are applied more frequently"
   ]
  },
  {
   "cell_type": "code",
   "execution_count": null,
   "metadata": {
    "id": "nKbXwZJwh6Gz"
   },
   "outputs": [],
   "source": [
    "# How often is each surcharge applied?\n",
    "\n"
   ]
  },
  {
   "cell_type": "markdown",
   "metadata": {
    "id": "bkyc9q40Cts-"
   },
   "source": [
    "## **4** Conclusion\n",
    "<font color = red>[15 marks]</font> <br>"
   ]
  },
  {
   "cell_type": "markdown",
   "metadata": {
    "id": "Z5yCODI-C6yR"
   },
   "source": [
    "### **4.1** Final Insights and Recommendations\n",
    "<font color = red>[15 marks]</font> <br>\n",
    "\n",
    "Conclude your analyses here. Include all the outcomes you found based on the analysis.\n",
    "\n",
    "Based on the insights, frame a concluding story explaining suitable parameters such as location, time of the day, day of the week etc. to be kept in mind while devising a strategy to meet customer demand and optimise supply."
   ]
  },
  {
   "cell_type": "markdown",
   "metadata": {
    "id": "0dy8J-C8jJjk"
   },
   "source": [
    "**4.1.1** <font color = red>[5 marks]</font> <br>\n",
    "Recommendations to optimize routing and dispatching based on demand patterns and operational inefficiencies"
   ]
  },
  {
   "cell_type": "code",
   "execution_count": null,
   "metadata": {
    "id": "J03px17x_rD9"
   },
   "outputs": [],
   "source": []
  },
  {
   "cell_type": "markdown",
   "metadata": {
    "id": "AaLgTWxpjt7h"
   },
   "source": [
    "**4.1.2** <font color = red>[5 marks]</font> <br>\n",
    "\n",
    "Suggestions on strategically positioning cabs across different zones to make best use of insights uncovered by analysing trip trends across time, days and months."
   ]
  },
  {
   "cell_type": "code",
   "execution_count": null,
   "metadata": {
    "id": "c8ZbTIF7_rsN"
   },
   "outputs": [],
   "source": []
  },
  {
   "cell_type": "markdown",
   "metadata": {
    "id": "mUU4mn50jMZy"
   },
   "source": [
    "**4.1.3** <font color = red>[5 marks]</font> <br>\n",
    "Propose data-driven adjustments to the pricing strategy to maximize revenue while maintaining competitive rates with other vendors."
   ]
  },
  {
   "cell_type": "code",
   "execution_count": null,
   "metadata": {
    "id": "SXErHFjx_sGN"
   },
   "outputs": [],
   "source": []
  },
  {
   "cell_type": "code",
   "execution_count": 1,
   "metadata": {},
   "outputs": [
    {
     "data": {
      "text/plain": [
       "'/Users/apple/Downloads'"
      ]
     },
     "execution_count": 1,
     "metadata": {},
     "output_type": "execute_result"
    }
   ],
   "source": [
    "%pwd"
   ]
  },
  {
   "cell_type": "code",
   "execution_count": null,
   "metadata": {},
   "outputs": [],
   "source": []
  }
 ],
 "metadata": {
  "colab": {
   "collapsed_sections": [
    "-OVfUMlHFkZD",
    "0eaCZjHIvfuI",
    "Kw-WRzBfyS7j",
    "nM2X-s6lycvQ",
    "NgHgbPIepaYl",
    "QaOS3H9izZ0N",
    "HZvPSwJx0S3K",
    "x2hakCCy6wXI",
    "2jyQyYIpCztl",
    "gPpJyFFNffcL",
    "a4N3PvkSTwcN",
    "MbGMjArkiXjL",
    "23IqsgNjHNpJ",
    "CVXxcSYHj9sh",
    "Rv0oYLcbhOTU",
    "XBY2Y4Jrz9IQ",
    "nG77smP4tyWu",
    "M2o6xY0Yh6Gv",
    "bkyc9q40Cts-",
    "Z5yCODI-C6yR"
   ],
   "provenance": [
    {
     "file_id": "1PvYLECban8pmD-aFGV_yoRF2PyRwLntw",
     "timestamp": 1737110016234
    },
    {
     "file_id": "1jppXTxMvUcVsY27R_ckdE5DAnxrROUY1",
     "timestamp": 1732620370544
    }
   ],
   "toc_visible": true
  },
  "kernelspec": {
   "display_name": "Python [conda env:base] *",
   "language": "python",
   "name": "conda-base-py"
  },
  "language_info": {
   "codemirror_mode": {
    "name": "ipython",
    "version": 3
   },
   "file_extension": ".py",
   "mimetype": "text/x-python",
   "name": "python",
   "nbconvert_exporter": "python",
   "pygments_lexer": "ipython3",
   "version": "3.12.7"
  }
 },
 "nbformat": 4,
 "nbformat_minor": 4
}
